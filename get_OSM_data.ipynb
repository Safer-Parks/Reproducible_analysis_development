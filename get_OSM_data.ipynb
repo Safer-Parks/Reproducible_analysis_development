{
 "cells": [
  {
   "cell_type": "code",
   "execution_count": null,
   "metadata": {},
   "outputs": [],
   "source": [
    "# get packages\n",
    "import pandas as pd\n",
    "import geopandas as gpd\n",
    "\n",
    "import osmnx as ox\n",
    "import networkx as nx"
   ]
  },
  {
   "cell_type": "code",
   "execution_count": null,
   "metadata": {},
   "outputs": [],
   "source": [
    "# Define the place name\n",
    "place_name = \"Bradford, United Kingdom\""
   ]
  },
  {
   "cell_type": "markdown",
   "metadata": {},
   "source": [
    "### Benches"
   ]
  },
  {
   "cell_type": "code",
   "execution_count": null,
   "metadata": {},
   "outputs": [],
   "source": [
    "# Get the amenities tagged as benches in Bradford\n",
    "tags = {'amenity': 'bench'}\n",
    "benches = ox.geometries_from_place(place_name, tags)\n",
    "\n",
    "# Convert the benches data to a pandas DataFrame\n",
    "benches_df = gpd.GeoDataFrame(benches)\n",
    "\n",
    "# Display the DataFrame\n",
    "benches_df"
   ]
  },
  {
   "cell_type": "code",
   "execution_count": null,
   "metadata": {},
   "outputs": [],
   "source": [
    "benches_df.explore()"
   ]
  },
  {
   "cell_type": "markdown",
   "metadata": {},
   "source": [
    "## BMX and cycle tracks \n",
    "(Male dominated)"
   ]
  },
  {
   "cell_type": "code",
   "execution_count": null,
   "metadata": {},
   "outputs": [],
   "source": [
    "tags = {'leisure': 'track', 'sport': 'bmx'}\n",
    "bmx = ox.geometries_from_place(place_name, tags)\n",
    "\n",
    "bmx_df = gpd.GeoDataFrame(bmx)\n",
    "bmx_df.explore()"
   ]
  },
  {
   "cell_type": "markdown",
   "metadata": {},
   "source": [
    "## Cycle Networks"
   ]
  },
  {
   "cell_type": "code",
   "execution_count": null,
   "metadata": {},
   "outputs": [],
   "source": [
    "# Get the National Cycle Network in West Yorkshire\n",
    "\n",
    "bike_routes = ox.graph_from_place(place_name, network_type=\"bike\")\n",
    "bike_routes\n",
    "\n",
    "# Convert the graph to GeoDataFrames\n",
    "nodes_bike_routes, edges_bike_routes = ox.graph_to_gdfs(bike_routes)\n",
    "# # Convert the National Cycle Network routes data to a pandas DataFrame\n",
    "# bike_routes_df = gpd.GeoDataFrame(bike_routes)\n",
    "# bike_routes_df.explore()"
   ]
  },
  {
   "cell_type": "code",
   "execution_count": null,
   "metadata": {},
   "outputs": [],
   "source": [
    "edges_bike_routes.explore()"
   ]
  },
  {
   "cell_type": "code",
   "execution_count": null,
   "metadata": {},
   "outputs": [],
   "source": [
    "# Get the National Cycle Network in West Yorkshire\n",
    "tags = {'highway': 'cycleway'}\n",
    "cycle_routes = ox.geometries_from_place(place_name, tags)\n",
    "\n",
    "# Convert the National Cycle Network routes data to a pandas DataFrame\n",
    "cycle_routes_df = gpd.GeoDataFrame(cycle_routes)\n",
    "\n",
    "# Display the DataFrame\n",
    "cycle_routes_df.explore()"
   ]
  },
  {
   "cell_type": "code",
   "execution_count": null,
   "metadata": {},
   "outputs": [],
   "source": [
    "cycle_routes =cycle_routes.reset_index()\n",
    "."
   ]
  },
  {
   "cell_type": "code",
   "execution_count": null,
   "metadata": {},
   "outputs": [],
   "source": [
    "from shapely.ops import unary_union"
   ]
  },
  {
   "cell_type": "code",
   "execution_count": null,
   "metadata": {},
   "outputs": [],
   "source": [
    "import osmnx as ox\n",
    "import geopandas as gpd\n",
    "from shapely.ops import unary_union\n",
    "\n",
    "# Define the place name\n",
    "place_name = \"United Kingdom\"\n",
    "\n",
    "# Get all cycle routes in the UK\n",
    "tags = {'highway': 'cycleway'}\n",
    "cycle_routes = ox.geometries_from_place(place_name, tags)\n",
    "\n",
    "# Convert the cycle routes data to a GeoDataFrame\n",
    "cycle_routes_gdf = gpd.GeoDataFrame(cycle_routes)\n",
    "\n",
    "# Group by route and combine each route into a single LineString\n",
    "combined_routes = cycle_routes_gdf.groupby('name')['geometry'].apply(unary_union).reset_index()\n",
    "\n",
    "# Create a new GeoDataFrame with the combined routes\n",
    "combined_routes_gdf = gpd.GeoDataFrame(combined_routes, geometry='geometry')\n",
    "\n",
    "# Save the combined routes to a file\n",
    "combined_routes_gdf.to_file(\"national_cycle_routes_uk.geojson\", driver=\"GeoJSON\")\n",
    "\n",
    "# Display the combined routes GeoDataFrame\n",
    "combined_routes_gdf.explore()"
   ]
  },
  {
   "cell_type": "code",
   "execution_count": null,
   "metadata": {},
   "outputs": [],
   "source": [
    "combined_routes_gdf.crs =cycle_routes_gdf.crs"
   ]
  },
  {
   "cell_type": "code",
   "execution_count": null,
   "metadata": {},
   "outputs": [],
   "source": [
    "combined_routes_gdf.explore()"
   ]
  },
  {
   "cell_type": "code",
   "execution_count": null,
   "metadata": {},
   "outputs": [],
   "source": [
    "# Combine all cycle routes into a single LineString\n",
    "combined_cycle_route = unary_union(cycle_routes_df.geometry)\n",
    "\n",
    "# Create a new GeoDataFrame with the combined route\n",
    "combined_cycle_route_gdf = gpd.GeoDataFrame(geometry=[combined_cycle_route])\n",
    "combined_cycle_route_gdf.crs =cycle_routes_df.crs\n",
    "# Display the combined route GeoDataFrame\n",
    "combined_cycle_route_gdf.explore()"
   ]
  },
  {
   "cell_type": "code",
   "execution_count": null,
   "metadata": {},
   "outputs": [],
   "source": [
    "combined_cycle_route_gdf"
   ]
  },
  {
   "cell_type": "code",
   "execution_count": null,
   "metadata": {},
   "outputs": [],
   "source": [
    "# Get all walking routes in West Yorkshire\n",
    "tags = {'highway': 'footway'}\n",
    "walking_routes = ox.geometries_from_place(place_name, tags)\n",
    "\n",
    "# Convert the walking routes data to a pandas DataFrame\n",
    "walking_routes_df = gpd.GeoDataFrame(walking_routes)\n",
    "walking_routes_df.explore()"
   ]
  },
  {
   "cell_type": "code",
   "execution_count": null,
   "metadata": {},
   "outputs": [],
   "source": [
    "# Get all surveillance facilities in West Yorkshire\n",
    "tags = {'man_made': 'surveillance'}\n",
    "surveillance_facilities = ox.geometries_from_place(place_name, tags)\n",
    "\n",
    "# Convert the surveillance facilities data to a GeoPandas DataFrame\n",
    "surveillance_facilities_df = gpd.GeoDataFrame(surveillance_facilities)\n",
    "\n",
    "surveillance_facilities_df.explore()"
   ]
  },
  {
   "cell_type": "code",
   "execution_count": null,
   "metadata": {},
   "outputs": [],
   "source": [
    "\n",
    "\n",
    "# Define the OpenStreetMap way ID for the park\n",
    "way_id = 27413170\n",
    "\n",
    "# Get the bounding box for the specified way ID\n",
    "gdf = ox.geometries_from_way(way_id, tags={'leisure': 'park'})\n",
    "bbox = gdf.unary_union.bounds\n",
    "\n",
    "# Get the network within the bounding box\n",
    "G = ox.graph_from_bbox(bbox[3], bbox[1], bbox[2], bbox[0], network_type='walk')\n",
    "\n",
    "# Calculate the number of corners (nodes with degree 3 or more)\n",
    "corners = [node for node, degree in dict(G.degree()).items() if degree >= 3]\n",
    "num_corners = len(corners)\n",
    "\n",
    "# Calculate the connectiveness (average node degree)\n",
    "avg_node_degree = sum(dict(G.degree()).values()) / len(G.nodes)\n",
    "\n",
    "print(f\"Number of corners: {num_corners}\")\n",
    "print(f\"Connectiveness (average node degree): {avg_node_degree:.2f}\")"
   ]
  },
  {
   "cell_type": "code",
   "execution_count": null,
   "metadata": {},
   "outputs": [],
   "source": [
    "\n",
    "\n",
    "# Define the bounding box for the park (approximate coordinates)\n",
    "north, south, east, west = 53.804224, 53.811586, -1.750860,-1.734338\n",
    "\n",
    "\n",
    "\n",
    "# Get the network within the bounding box\n",
    "G = ox.graph_from_bbox(north, south, east, west, network_type='walk')\n",
    "\n",
    "# Calculate the number of corners (nodes with degree 3 or more)\n",
    "corners = [node for node, degree in dict(G.degree()).items() if degree >= 3]\n",
    "num_corners = len(corners)\n",
    "\n",
    "# Calculate the connectiveness (average node degree)\n",
    "avg_node_degree = sum(dict(G.degree()).values()) / len(G.nodes)\n",
    "\n",
    "print(f\"Number of corners: {num_corners}\")\n",
    "print(f\"Connectiveness (average node degree): {avg_node_degree:.2f}\")"
   ]
  },
  {
   "cell_type": "code",
   "execution_count": null,
   "metadata": {},
   "outputs": [],
   "source": [
    "gdf_nodes['street_count'].mode()"
   ]
  },
  {
   "cell_type": "code",
   "execution_count": null,
   "metadata": {},
   "outputs": [],
   "source": [
    "# Convert the network into a GeoDataFrame\n",
    "gdf_nodes, gdf_edges = ox.graph_to_gdfs(G)"
   ]
  },
  {
   "cell_type": "code",
   "execution_count": null,
   "metadata": {},
   "outputs": [],
   "source": [
    "gdf_nodes.explore()"
   ]
  },
  {
   "cell_type": "code",
   "execution_count": null,
   "metadata": {},
   "outputs": [],
   "source": [
    "gdf_nodes.loc[gdf_nodes['street_count']<=2,:].explore()"
   ]
  },
  {
   "cell_type": "code",
   "execution_count": null,
   "metadata": {},
   "outputs": [],
   "source": [
    "gdf_edges.explore()"
   ]
  },
  {
   "cell_type": "code",
   "execution_count": null,
   "metadata": {},
   "outputs": [],
   "source": []
  }
 ],
 "metadata": {
  "kernelspec": {
   "display_name": "geog_env",
   "language": "python",
   "name": "python3"
  },
  "language_info": {
   "codemirror_mode": {
    "name": "ipython",
    "version": 3
   },
   "file_extension": ".py",
   "mimetype": "text/x-python",
   "name": "python",
   "nbconvert_exporter": "python",
   "pygments_lexer": "ipython3",
   "version": "3.11.6"
  }
 },
 "nbformat": 4,
 "nbformat_minor": 2
}
