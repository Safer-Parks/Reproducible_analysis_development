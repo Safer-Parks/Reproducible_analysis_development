{
 "cells": [
  {
   "cell_type": "markdown",
   "id": "c301a6bc",
   "metadata": {},
   "source": [
    "# Calculating park entrances\n",
    "\n",
    "Exploratory notebook calculating where park entrances are. \n",
    "\n",
    "This notebook replicates the work in [Park entrance calculation notebook](park_entrance_calculation.ipynb), but using the `safer_parks` module.\n",
    "\n",
    "Rationale:\n",
    "\n",
    "- Park entrances are not accurately recorded in open data sets\n",
    "- Park entrances for our purposes are not defined in the same way as entrances/gates in open data sets (e.g. internal gates).\n",
    "- We need accurate entrance data for visibility analysis (openness and escape)"
   ]
  },
  {
   "cell_type": "markdown",
   "id": "f38c4595",
   "metadata": {},
   "source": [
    "`safer_parks` is installed as a local editable package. When it's updated, it needs to be force re-imported, hence the use below of `importlib`."
   ]
  },
  {
   "cell_type": "code",
   "execution_count": 1,
   "id": "37d52b5a",
   "metadata": {},
   "outputs": [
    {
     "data": {
      "text/plain": [
       "<module 'safer_parks' from '/home/maeve/Reproducible_analysis_development/src/safer_parks/__init__.py'>"
      ]
     },
     "execution_count": 1,
     "metadata": {},
     "output_type": "execute_result"
    }
   ],
   "source": [
    "import safer_parks as sp\n",
    "import importlib\n",
    "importlib.reload(sp)"
   ]
  },
  {
   "cell_type": "code",
   "execution_count": null,
   "id": "d38f25cd",
   "metadata": {},
   "outputs": [],
   "source": []
  }
 ],
 "metadata": {
  "kernelspec": {
   "display_name": "park-safety-env",
   "language": "python",
   "name": "python3"
  },
  "language_info": {
   "codemirror_mode": {
    "name": "ipython",
    "version": 3
   },
   "file_extension": ".py",
   "mimetype": "text/x-python",
   "name": "python",
   "nbconvert_exporter": "python",
   "pygments_lexer": "ipython3",
   "version": "3.13.5"
  }
 },
 "nbformat": 4,
 "nbformat_minor": 5
}
