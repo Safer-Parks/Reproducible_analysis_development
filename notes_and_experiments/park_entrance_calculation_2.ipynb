{
 "cells": [
  {
   "cell_type": "markdown",
   "id": "c301a6bc",
   "metadata": {},
   "source": [
    "# Calculating park entrances\n",
    "\n",
    "Exploratory notebook calculating where park entrances are. \n",
    "\n",
    "This notebook replicates the work in [Park entrance calculation notebook](park_entrance_calculation.ipynb), but using the `safer_parks` module.\n",
    "\n",
    "Rationale:\n",
    "\n",
    "- Park entrances are not accurately recorded in open data sets\n",
    "- Park entrances for our purposes are not defined in the same way as entrances/gates in open data sets (e.g. internal gates).\n",
    "- We need accurate entrance data for visibility analysis (openness and escape)"
   ]
  },
  {
   "cell_type": "markdown",
   "id": "f38c4595",
   "metadata": {},
   "source": [
    "`safer_parks` is installed as a local editable package. When it's updated, it needs to be force re-imported, hence the use below of `importlib`."
   ]
  },
  {
   "cell_type": "code",
   "execution_count": 1,
   "id": "37d52b5a",
   "metadata": {},
   "outputs": [
    {
     "data": {
      "text/plain": [
       "<module 'safer_parks' from '/home/maeve/Reproducible_analysis_development/src/safer_parks/__init__.py'>"
      ]
     },
     "execution_count": 1,
     "metadata": {},
     "output_type": "execute_result"
    }
   ],
   "source": [
    "import safer_parks as sp\n",
    "import importlib\n",
    "importlib.reload(sp)"
   ]
  },
  {
   "cell_type": "code",
   "execution_count": 2,
   "id": "d38f25cd",
   "metadata": {},
   "outputs": [
    {
     "name": "stdout",
     "output_type": "stream",
     "text": [
      "['__builtins__', '__cached__', '__doc__', '__file__', '__loader__', '__name__', '__package__', '__path__', '__spec__', 'bounds', 'entrances', 'park_polygon']\n",
      "['LineString', 'Point', '__builtins__', '__cached__', '__doc__', '__file__', '__loader__', '__name__', '__package__', '__spec__', 'basic_boundary', 'buffer_network', 'np', 'ox', 'plt', 'remove_repeated_points', 'unary_union']\n",
      "['LineString', 'Point', '__builtins__', '__cached__', '__doc__', '__file__', '__loader__', '__name__', '__package__', '__spec__', 'interpolated', 'np', 'ox', 'plt', 'remove_repeated_points', 'tagged', 'unary_union']\n"
     ]
    }
   ],
   "source": [
    "# exploring the namespace\n",
    "\n",
    "# You may need to restart kernel if these are stale\n",
    "\n",
    "print(dir(sp))\n",
    "print(dir(sp.bounds))\n",
    "print(dir(sp.entrances))"
   ]
  },
  {
   "cell_type": "markdown",
   "id": "98158e8f",
   "metadata": {},
   "source": [
    "## Step 1: get park polygon\n",
    "\n",
    "This is the section that should be replaced with the more complex definition. A \"park polygon\" is required for subsequent steps."
   ]
  },
  {
   "cell_type": "code",
   "execution_count": 3,
   "id": "78861392",
   "metadata": {},
   "outputs": [],
   "source": [
    "location = \"Peel Park, Bradford, UK\"\n",
    "# location = \"Lister Park, Bradford, UK\"\n",
    "\n",
    "park_polygon = sp.park_polygon(location)"
   ]
  },
  {
   "cell_type": "code",
   "execution_count": 4,
   "id": "ce837507",
   "metadata": {},
   "outputs": [
    {
     "data": {
      "image/svg+xml": [
       "<svg xmlns=\"http://www.w3.org/2000/svg\" xmlns:xlink=\"http://www.w3.org/1999/xlink\" width=\"100.0\" height=\"100.0\" viewBox=\"-1.751089944 53.804988156 0.015453288000000232 0.006586487999996393\" preserveAspectRatio=\"xMinYMin meet\"><g transform=\"matrix(1,0,0,-1,0,107.6165628)\"><path fill-rule=\"evenodd\" fill=\"#66cc99\" stroke=\"#555555\" stroke-width=\"0.00030906576000000463\" opacity=\"0.6\" d=\"M -1.7504427,53.8078201 L -1.7504904,53.8081214 L -1.7505176,53.8083676 L -1.7504763,53.8084939 L -1.7502068,53.8084484 L -1.7500279,53.8086295 L -1.7497301,53.8087777 L -1.7498522,53.8089005 L -1.7493486,53.8091488 L -1.7483519,53.809427 L -1.7478354,53.8095768 L -1.7468468,53.8099251 L -1.7453577,53.8106153 L -1.7451727,53.8104801 L -1.7448534,53.8104204 L -1.7444332,53.8104366 L -1.7441529,53.8104111 L -1.7431443,53.8102373 L -1.7425426,53.8101354 L -1.7417493,53.8100804 L -1.7414321,53.8100802 L -1.7411269,53.8101531 L -1.7406975,53.8103492 L -1.7405503,53.8103869 L -1.7401238,53.810439 L -1.7398519,53.8105382 L -1.7396387,53.8106762 L -1.7394318,53.8108845 L -1.7394535,53.8109329 L -1.738189,53.8110021 L -1.7377592,53.8110023 L -1.737409,53.8109715 L -1.7369856,53.8109141 L -1.7365338,53.8108125 L -1.736209,53.8107273 L -1.7363439,53.8105997 L -1.7365234,53.8106214 L -1.7367399,53.810411 L -1.7368844,53.8103917 L -1.737519,53.8097425 L -1.7382101,53.809121 L -1.7384418,53.8088993 L -1.7389933,53.8086522 L -1.739338,53.8086108 L -1.739504,53.8085851 L -1.7397576,53.808511 L -1.7402642,53.8083619 L -1.7409051,53.8081733 L -1.7409352,53.8081162 L -1.7410468,53.8080795 L -1.7412077,53.8080567 L -1.7416073,53.8080225 L -1.7416305,53.8077996 L -1.7416547,53.8073782 L -1.7417517,53.8066395 L -1.7417849,53.8063686 L -1.7418367,53.8062676 L -1.7418913,53.8061612 L -1.7424098,53.8063006 L -1.7426443,53.8060654 L -1.7427233,53.8056423 L -1.7429498,53.8055605 L -1.7431456,53.8056459 L -1.7446181,53.8059838 L -1.7449567,53.8060526 L -1.745411,53.8061449 L -1.7491463,53.8074252 L -1.7498224,53.8076374 L -1.7504427,53.8078201 z\" /></g></svg>"
      ],
      "text/plain": [
       "<POLYGON ((-1.75 53.808, -1.75 53.808, -1.751 53.808, -1.75 53.808, -1.75 53...>"
      ]
     },
     "execution_count": 4,
     "metadata": {},
     "output_type": "execute_result"
    }
   ],
   "source": [
    "# you can view this\n",
    "\n",
    "park_polygon"
   ]
  },
  {
   "cell_type": "markdown",
   "id": "b18f0a39",
   "metadata": {},
   "source": [
    "## Step 2: Create buffered polygon for network extraction\n",
    "\n",
    "Park gets bufferred and then returns graph"
   ]
  },
  {
   "cell_type": "code",
   "execution_count": 5,
   "id": "13fec49b",
   "metadata": {},
   "outputs": [],
   "source": [
    "Graph = sp.bounds.buffer_network(park_polygon)"
   ]
  },
  {
   "cell_type": "code",
   "execution_count": 6,
   "id": "a5a14ff1",
   "metadata": {},
   "outputs": [
    {
     "name": "stdout",
     "output_type": "stream",
     "text": [
      "Found 18 entrance nodes, note that these need to be deduplicated.\n",
      "Found 9 entrance nodes after deduplication.\n"
     ]
    }
   ],
   "source": [
    "interpolated_entrances = sp.entrances.interpolated(Graph, park_polygon)"
   ]
  },
  {
   "cell_type": "code",
   "execution_count": null,
   "id": "5afa53a1",
   "metadata": {},
   "outputs": [],
   "source": []
  }
 ],
 "metadata": {
  "kernelspec": {
   "display_name": "park-safety-env",
   "language": "python",
   "name": "python3"
  },
  "language_info": {
   "codemirror_mode": {
    "name": "ipython",
    "version": 3
   },
   "file_extension": ".py",
   "mimetype": "text/x-python",
   "name": "python",
   "nbconvert_exporter": "python",
   "pygments_lexer": "ipython3",
   "version": "3.13.5"
  }
 },
 "nbformat": 4,
 "nbformat_minor": 5
}
