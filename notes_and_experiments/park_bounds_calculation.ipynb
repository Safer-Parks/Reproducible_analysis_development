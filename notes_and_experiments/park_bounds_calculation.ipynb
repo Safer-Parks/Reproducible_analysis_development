{
 "cells": [
  {
   "cell_type": "markdown",
   "id": "1dda85cf",
   "metadata": {},
   "source": [
    "# Turning the park boundary calculation into reusable functions\n",
    "\n",
    "- This notebook takes the method provided in [quantification notebook](../Safer_park_quantification.ipynb) and tries to turn it into a reusable function that works with the other functions in the `safer_parks` module.\n",
    "- We will try to simplify and use the APIs available where possible.\n"
   ]
  },
  {
   "cell_type": "code",
   "execution_count": 11,
   "id": "0aace72e",
   "metadata": {},
   "outputs": [
    {
     "data": {
      "text/plain": [
       "<module 'safer_parks' from '/home/maeve/Reproducible_analysis_development/src/safer_parks/__init__.py'>"
      ]
     },
     "execution_count": 11,
     "metadata": {},
     "output_type": "execute_result"
    }
   ],
   "source": [
    "import pandas as pd\n",
    "import geopandas as gpd\n",
    "import fiona\n",
    "import osmnx as ox\n",
    "from shapely.ops import unary_union\n",
    "import shapely\n",
    "import re\n",
    "import folium\n",
    "import safer_parks as sp\n",
    "import importlib\n",
    "# import osdatahub\n",
    "# from osdatahub import OpenDataDownload\n",
    "\n",
    "importlib.reload(sp)\n"
   ]
  },
  {
   "cell_type": "code",
   "execution_count": 12,
   "id": "dfd3284a",
   "metadata": {},
   "outputs": [
    {
     "name": "stdout",
     "output_type": "stream",
     "text": [
      "2.0.4\n"
     ]
    }
   ],
   "source": [
    "# check versions of different libraries\n",
    "\n",
    "print(ox.__version__)"
   ]
  },
  {
   "cell_type": "code",
   "execution_count": 13,
   "id": "724f4ab6",
   "metadata": {},
   "outputs": [],
   "source": [
    "# location = \"Peel Park, Bradford, UK\"\n",
    "location = \"Lister Park, Bradford, UK\""
   ]
  },
  {
   "cell_type": "markdown",
   "id": "8acf8dc2",
   "metadata": {},
   "source": [
    "First, I'm just checking that I can't do this super simply."
   ]
  },
  {
   "cell_type": "code",
   "execution_count": 14,
   "id": "0e0e66ab",
   "metadata": {},
   "outputs": [],
   "source": [
    "tags = {\n",
    "    'leisure': ['park'],\n",
    "    'landuse': ['forest', 'meadow'],\n",
    "    'natural': ['wood', 'scrub']\n",
    "}\n",
    "\n",
    "parks = ox.features.features_from_address(location, tags, 200)\n",
    "park = parks.iloc[0]\n",
    "park_polygon_1 = park.geometry  # unbuffered!"
   ]
  },
  {
   "cell_type": "code",
   "execution_count": 15,
   "id": "fa716511",
   "metadata": {},
   "outputs": [
    {
     "data": {
      "image/svg+xml": [
       "<svg xmlns=\"http://www.w3.org/2000/svg\" xmlns:xlink=\"http://www.w3.org/1999/xlink\" width=\"100.0\" height=\"100.0\" viewBox=\"-1.779775828 53.808884772 0.012577355999999984 0.007130256000003499\" preserveAspectRatio=\"xMinYMin meet\"><g transform=\"matrix(1,0,0,-1,0,107.62489980000001)\"><path fill-rule=\"evenodd\" fill=\"#66cc99\" stroke=\"#555555\" stroke-width=\"0.0002515471199999997\" opacity=\"0.6\" d=\"M -1.7712472,53.810899 L -1.7710673,53.81089 L -1.7709942,53.8108845 L -1.7703089,53.8106115 L -1.7696163,53.8102723 L -1.7694682,53.810191 L -1.7692001,53.8100411 L -1.7686757,53.8095899 L -1.7685422,53.8094538 L -1.7684092,53.8093774 L -1.768257,53.8093506 L -1.7681297,53.8093523 L -1.7678916,53.8094181 L -1.7677311,53.8094674 L -1.7677155,53.8096836 L -1.7676643,53.8104854 L -1.7677286,53.8108195 L -1.7678306,53.8110729 L -1.7679781,53.8113358 L -1.7683026,53.8118157 L -1.7685628,53.8121198 L -1.7689034,53.8124935 L -1.7691502,53.8127263 L -1.7695659,53.8130494 L -1.7699254,53.8132821 L -1.7703304,53.8134959 L -1.7711753,53.8139552 L -1.7717868,53.8143289 L -1.7721865,53.814663 L -1.7724493,53.814937 L -1.7728195,53.8154141 L -1.7729364,53.8154774 L -1.773123,53.8155492 L -1.7735474,53.8154505 L -1.7739169,53.8153707 L -1.7741865,53.8153207 L -1.7746258,53.8152808 L -1.7750552,53.8152009 L -1.7753547,53.8151709 L -1.7763311,53.8150986 L -1.7766129,53.8150911 L -1.7775309,53.8150083 L -1.7778973,53.8150402 L -1.7785737,53.8151376 L -1.7789357,53.8152005 L -1.7791783,53.815137 L -1.7792993,53.8150323 L -1.77931,53.8148944 L -1.779245,53.8147145 L -1.7791591,53.8145718 L -1.7789835,53.8144396 L -1.7788304,53.8142799 L -1.778671,53.8141253 L -1.7780371,53.8136148 L -1.7737871,53.8115663 L -1.7730668,53.8113487 L -1.772205,53.8110935 L -1.7717295,53.8109931 L -1.7712472,53.810899 z\" /></g></svg>"
      ],
      "text/plain": [
       "<POLYGON ((-1.771 53.811, -1.771 53.811, -1.771 53.811, -1.77 53.811, -1.77 ...>"
      ]
     },
     "execution_count": 15,
     "metadata": {},
     "output_type": "execute_result"
    }
   ],
   "source": [
    "park_polygon_1"
   ]
  },
  {
   "cell_type": "code",
   "execution_count": 16,
   "id": "b37739d3",
   "metadata": {},
   "outputs": [
    {
     "data": {
      "image/svg+xml": [
       "<svg xmlns=\"http://www.w3.org/2000/svg\" xmlns:xlink=\"http://www.w3.org/1999/xlink\" width=\"100.0\" height=\"100.0\" viewBox=\"-1.779775828 53.808884772 0.012577355999999984 0.007130256000003499\" preserveAspectRatio=\"xMinYMin meet\"><g transform=\"matrix(1,0,0,-1,0,107.62489980000001)\"><path fill-rule=\"evenodd\" fill=\"#66cc99\" stroke=\"#555555\" stroke-width=\"0.0002515471199999997\" opacity=\"0.6\" d=\"M -1.7712472,53.810899 L -1.7710673,53.81089 L -1.7709942,53.8108845 L -1.7703089,53.8106115 L -1.7696163,53.8102723 L -1.7694682,53.810191 L -1.7692001,53.8100411 L -1.7686757,53.8095899 L -1.7685422,53.8094538 L -1.7684092,53.8093774 L -1.768257,53.8093506 L -1.7681297,53.8093523 L -1.7678916,53.8094181 L -1.7677311,53.8094674 L -1.7677155,53.8096836 L -1.7676643,53.8104854 L -1.7677286,53.8108195 L -1.7678306,53.8110729 L -1.7679781,53.8113358 L -1.7683026,53.8118157 L -1.7685628,53.8121198 L -1.7689034,53.8124935 L -1.7691502,53.8127263 L -1.7695659,53.8130494 L -1.7699254,53.8132821 L -1.7703304,53.8134959 L -1.7711753,53.8139552 L -1.7717868,53.8143289 L -1.7721865,53.814663 L -1.7724493,53.814937 L -1.7728195,53.8154141 L -1.7729364,53.8154774 L -1.773123,53.8155492 L -1.7735474,53.8154505 L -1.7739169,53.8153707 L -1.7741865,53.8153207 L -1.7746258,53.8152808 L -1.7750552,53.8152009 L -1.7753547,53.8151709 L -1.7763311,53.8150986 L -1.7766129,53.8150911 L -1.7775309,53.8150083 L -1.7778973,53.8150402 L -1.7785737,53.8151376 L -1.7789357,53.8152005 L -1.7791783,53.815137 L -1.7792993,53.8150323 L -1.77931,53.8148944 L -1.779245,53.8147145 L -1.7791591,53.8145718 L -1.7789835,53.8144396 L -1.7788304,53.8142799 L -1.778671,53.8141253 L -1.7780371,53.8136148 L -1.7737871,53.8115663 L -1.7730668,53.8113487 L -1.772205,53.8110935 L -1.7717295,53.8109931 L -1.7712472,53.810899 z\" /></g></svg>"
      ],
      "text/plain": [
       "<POLYGON ((-1.771 53.811, -1.771 53.811, -1.771 53.811, -1.77 53.811, -1.77 ...>"
      ]
     },
     "execution_count": 16,
     "metadata": {},
     "output_type": "execute_result"
    }
   ],
   "source": [
    "park_polygon_2 = sp.park_polygon(location)\n",
    "park_polygon_2"
   ]
  },
  {
   "cell_type": "code",
   "execution_count": 17,
   "id": "a1db1a30",
   "metadata": {},
   "outputs": [
    {
     "data": {
      "text/plain": [
       "shapely.geometry.polygon.Polygon"
      ]
     },
     "execution_count": 17,
     "metadata": {},
     "output_type": "execute_result"
    }
   ],
   "source": [
    "type(park_polygon_2)"
   ]
  },
  {
   "cell_type": "code",
   "execution_count": 18,
   "id": "80d6dde9",
   "metadata": {},
   "outputs": [
    {
     "data": {
      "text/plain": [
       "np.True_"
      ]
     },
     "execution_count": 18,
     "metadata": {},
     "output_type": "execute_result"
    }
   ],
   "source": [
    "shapely.equals(park_polygon_1, park_polygon_2)"
   ]
  },
  {
   "cell_type": "markdown",
   "id": "bb0d2ddd",
   "metadata": {},
   "source": [
    "OK, these are identical. Instead, I'm going to us Fran's technique, and then see how I can break it down into small modules.\n",
    "\n",
    "Instead of loading the data from a local file like this:\n",
    "\n",
    "```python\n",
    "# read in OS Open Greenspace data\n",
    "\n",
    "print(fiona.listlayers('Data/opgrsp_gb.gpkg'))\n",
    "os_greenspace_access =gpd.read_file('Data/opgrsp_gb.gpkg', layer ='access_point')\n",
    "os_greenspace_site =gpd.read_file('Data/opgrsp_gb.gpkg', layer ='greenspace_site')\n",
    "```\n",
    "\n",
    "I want to try using some form of API/on the fly loading.\n",
    "\n",
    "1. OS Open Greenspace data, both access_point and greenspace_site layers.\n",
    "2. Create a subset in the Bradford LAD."
   ]
  },
  {
   "cell_type": "code",
   "execution_count": 24,
   "id": "f92f9e07",
   "metadata": {},
   "outputs": [],
   "source": [
    "# Instead of single park, trying all parks\n",
    "\n",
    "region_location = \"Bradford, West Yorkshire, England\"\n",
    "\n",
    "tags = {\n",
    "    'leisure': ['park'],\n",
    "    'landuse': ['forest', 'meadow'],\n",
    "    'natural': ['wood', 'scrub']\n",
    "}\n",
    "\n",
    "parks = ox.features.features_from_address(region_location, tags, 2000)"
   ]
  },
  {
   "cell_type": "code",
   "execution_count": 26,
   "id": "da8a2d30",
   "metadata": {},
   "outputs": [
    {
     "data": {
      "text/html": [
       "<div style=\"width:100%;\"><div style=\"position:relative;width:100%;height:0;padding-bottom:60%;\"><span style=\"color:#565656\">Make this Notebook Trusted to load map: File -> Trust Notebook</span><iframe srcdoc=\"&lt;!DOCTYPE html&gt;\n",
       "&lt;html&gt;\n",
       "&lt;head&gt;\n",
       "    \n",
       "    &lt;meta http-equiv=&quot;content-type&quot; content=&quot;text/html; charset=UTF-8&quot; /&gt;\n",
       "    &lt;script src=&quot;https://cdn.jsdelivr.net/npm/leaflet@1.9.3/dist/leaflet.js&quot;&gt;&lt;/script&gt;\n",
       "    &lt;script src=&quot;https://code.jquery.com/jquery-3.7.1.min.js&quot;&gt;&lt;/script&gt;\n",
       "    &lt;script src=&quot;https://cdn.jsdelivr.net/npm/bootstrap@5.2.2/dist/js/bootstrap.bundle.min.js&quot;&gt;&lt;/script&gt;\n",
       "    &lt;script src=&quot;https://cdnjs.cloudflare.com/ajax/libs/Leaflet.awesome-markers/2.0.2/leaflet.awesome-markers.js&quot;&gt;&lt;/script&gt;\n",
       "    &lt;link rel=&quot;stylesheet&quot; href=&quot;https://cdn.jsdelivr.net/npm/leaflet@1.9.3/dist/leaflet.css&quot;/&gt;\n",
       "    &lt;link rel=&quot;stylesheet&quot; href=&quot;https://cdn.jsdelivr.net/npm/bootstrap@5.2.2/dist/css/bootstrap.min.css&quot;/&gt;\n",
       "    &lt;link rel=&quot;stylesheet&quot; href=&quot;https://netdna.bootstrapcdn.com/bootstrap/3.0.0/css/bootstrap-glyphicons.css&quot;/&gt;\n",
       "    &lt;link rel=&quot;stylesheet&quot; href=&quot;https://cdn.jsdelivr.net/npm/@fortawesome/fontawesome-free@6.2.0/css/all.min.css&quot;/&gt;\n",
       "    &lt;link rel=&quot;stylesheet&quot; href=&quot;https://cdnjs.cloudflare.com/ajax/libs/Leaflet.awesome-markers/2.0.2/leaflet.awesome-markers.css&quot;/&gt;\n",
       "    &lt;link rel=&quot;stylesheet&quot; href=&quot;https://cdn.jsdelivr.net/gh/python-visualization/folium/folium/templates/leaflet.awesome.rotate.min.css&quot;/&gt;\n",
       "    \n",
       "            &lt;meta name=&quot;viewport&quot; content=&quot;width=device-width,\n",
       "                initial-scale=1.0, maximum-scale=1.0, user-scalable=no&quot; /&gt;\n",
       "            &lt;style&gt;\n",
       "                #map_a144a6a094b8351a1d4ae4f278a24975 {\n",
       "                    position: relative;\n",
       "                    width: 100.0%;\n",
       "                    height: 100.0%;\n",
       "                    left: 0.0%;\n",
       "                    top: 0.0%;\n",
       "                }\n",
       "                .leaflet-container { font-size: 1rem; }\n",
       "            &lt;/style&gt;\n",
       "\n",
       "            &lt;style&gt;html, body {\n",
       "                width: 100%;\n",
       "                height: 100%;\n",
       "                margin: 0;\n",
       "                padding: 0;\n",
       "            }\n",
       "            &lt;/style&gt;\n",
       "\n",
       "            &lt;style&gt;#map {\n",
       "                position:absolute;\n",
       "                top:0;\n",
       "                bottom:0;\n",
       "                right:0;\n",
       "                left:0;\n",
       "                }\n",
       "            &lt;/style&gt;\n",
       "\n",
       "            &lt;script&gt;\n",
       "                L_NO_TOUCH = false;\n",
       "                L_DISABLE_3D = false;\n",
       "            &lt;/script&gt;\n",
       "\n",
       "        \n",
       "    \n",
       "                    &lt;style&gt;\n",
       "                        .foliumtooltip {\n",
       "                            \n",
       "                        }\n",
       "                       .foliumtooltip table{\n",
       "                            margin: auto;\n",
       "                        }\n",
       "                        .foliumtooltip tr{\n",
       "                            text-align: left;\n",
       "                        }\n",
       "                        .foliumtooltip th{\n",
       "                            padding: 2px; padding-right: 8px;\n",
       "                        }\n",
       "                    &lt;/style&gt;\n",
       "            \n",
       "&lt;/head&gt;\n",
       "&lt;body&gt;\n",
       "    \n",
       "    \n",
       "            &lt;div class=&quot;folium-map&quot; id=&quot;map_a144a6a094b8351a1d4ae4f278a24975&quot; &gt;&lt;/div&gt;\n",
       "        \n",
       "&lt;/body&gt;\n",
       "&lt;script&gt;\n",
       "    \n",
       "    \n",
       "            var map_a144a6a094b8351a1d4ae4f278a24975 = L.map(\n",
       "                &quot;map_a144a6a094b8351a1d4ae4f278a24975&quot;,\n",
       "                {\n",
       "                    center: [53.79266455, -1.7507748],\n",
       "                    crs: L.CRS.EPSG3857,\n",
       "                    ...{\n",
       "  &quot;zoom&quot;: 10,\n",
       "  &quot;zoomControl&quot;: true,\n",
       "  &quot;preferCanvas&quot;: false,\n",
       "}\n",
       "\n",
       "                }\n",
       "            );\n",
       "            L.control.scale().addTo(map_a144a6a094b8351a1d4ae4f278a24975);\n",
       "\n",
       "            \n",
       "\n",
       "        \n",
       "    \n",
       "            var tile_layer_92270fe2efd852f9752dabd62d3f97e3 = L.tileLayer(\n",
       "                &quot;https://tile.openstreetmap.org/{z}/{x}/{y}.png&quot;,\n",
       "                {\n",
       "  &quot;minZoom&quot;: 0,\n",
       "  &quot;maxZoom&quot;: 19,\n",
       "  &quot;maxNativeZoom&quot;: 19,\n",
       "  &quot;noWrap&quot;: false,\n",
       "  &quot;attribution&quot;: &quot;\\u0026copy; \\u003ca href=\\&quot;https://www.openstreetmap.org/copyright\\&quot;\\u003eOpenStreetMap\\u003c/a\\u003e contributors&quot;,\n",
       "  &quot;subdomains&quot;: &quot;abc&quot;,\n",
       "  &quot;detectRetina&quot;: false,\n",
       "  &quot;tms&quot;: false,\n",
       "  &quot;opacity&quot;: 1,\n",
       "}\n",
       "\n",
       "            );\n",
       "        \n",
       "    \n",
       "            tile_layer_92270fe2efd852f9752dabd62d3f97e3.addTo(map_a144a6a094b8351a1d4ae4f278a24975);\n",
       "        \n",
       "    \n",
       "            map_a144a6a094b8351a1d4ae4f278a24975.fitBounds(\n",
       "                [[53.7697799, -1.7838487], [53.8155492, -1.7177009]],\n",
       "                {}\n",
       "            );\n",
       "        \n",
       "    \n",
       "        function geo_json_8a43d9934295a671b2ff960bd1c09468_styler(feature) {\n",
       "            switch(feature.id) {\n",
       "                default:\n",
       "                    return {&quot;fillOpacity&quot;: 0.5, &quot;weight&quot;: 2};\n",
       "            }\n",
       "        }\n",
       "        function geo_json_8a43d9934295a671b2ff960bd1c09468_highlighter(feature) {\n",
       "            switch(feature.id) {\n",
       "                default:\n",
       "                    return {&quot;fillOpacity&quot;: 0.75};\n",
       "            }\n",
       "        }\n",
       "        function geo_json_8a43d9934295a671b2ff960bd1c09468_pointToLayer(feature, latlng) {\n",
       "            var opts = {\n",
       "  &quot;stroke&quot;: true,\n",
       "  &quot;color&quot;: &quot;#3388ff&quot;,\n",
       "  &quot;weight&quot;: 3,\n",
       "  &quot;opacity&quot;: 1.0,\n",
       "  &quot;lineCap&quot;: &quot;round&quot;,\n",
       "  &quot;lineJoin&quot;: &quot;round&quot;,\n",
       "  &quot;dashArray&quot;: null,\n",
       "  &quot;dashOffset&quot;: null,\n",
       "  &quot;fill&quot;: true,\n",
       "  &quot;fillColor&quot;: &quot;#3388ff&quot;,\n",
       "  &quot;fillOpacity&quot;: 0.2,\n",
       "  &quot;fillRule&quot;: &quot;evenodd&quot;,\n",
       "  &quot;bubblingMouseEvents&quot;: true,\n",
       "  &quot;radius&quot;: 2,\n",
       "};\n",
       "            \n",
       "            let style = geo_json_8a43d9934295a671b2ff960bd1c09468_styler(feature)\n",
       "            Object.assign(opts, style)\n",
       "            \n",
       "            return new L.CircleMarker(latlng, opts)\n",
       "        }\n",
       "\n",
       "        function geo_json_8a43d9934295a671b2ff960bd1c09468_onEachFeature(feature, layer) {\n",
       "\n",
       "            layer.on({\n",
       "                mouseout: function(e) {\n",
       "                    if(typeof e.target.setStyle === &quot;function&quot;){\n",
       "                            geo_json_8a43d9934295a671b2ff960bd1c09468.resetStyle(e.target);\n",
       "                    }\n",
       "                },\n",
       "                mouseover: function(e) {\n",
       "                    if(typeof e.target.setStyle === &quot;function&quot;){\n",
       "                        const highlightStyle = geo_json_8a43d9934295a671b2ff960bd1c09468_highlighter(e.target.feature)\n",
       "                        e.target.setStyle(highlightStyle);\n",
       "                    }\n",
       "                },\n",
       "            });\n",
       "        };\n",
       "        var geo_json_8a43d9934295a671b2ff960bd1c09468 = L.geoJson(null, {\n",
       "                onEachFeature: geo_json_8a43d9934295a671b2ff960bd1c09468_onEachFeature,\n",
       "            \n",
       "                style: geo_json_8a43d9934295a671b2ff960bd1c09468_styler,\n",
       "                pointToLayer: geo_json_8a43d9934295a671b2ff960bd1c09468_pointToLayer,\n",
       "            ...{\n",
       "}\n",
       "        });\n",
       "\n",
       "        function geo_json_8a43d9934295a671b2ff960bd1c09468_add (data) {\n",
       "            geo_json_8a43d9934295a671b2ff960bd1c09468\n",
       "                .addData(data);\n",
       "        }\n",
       "            geo_json_8a43d9934295a671b2ff960bd1c09468_add({&quot;bbox&quot;: [-1.7838487, 53.7697799, -1.7177009, 53.8155492], &quot;features&quot;: [{&quot;bbox&quot;: [-1.7500258, 53.7926968, -1.7476237, 53.7934454], &quot;geometry&quot;: {&quot;coordinates&quot;: [[[-1.7500258, 53.792748], [-1.7498945, 53.7928414], [-1.7497777, 53.7929356], [-1.7498271, 53.7931817], [-1.7498551, 53.793303], [-1.749792, 53.7933534], [-1.7496014, 53.7933579], [-1.7494982, 53.7934215], [-1.7491858, 53.7934389], [-1.7489653, 53.7934454], [-1.7481343, 53.7933991], [-1.7478666, 53.7933767], [-1.7476237, 53.7933398], [-1.7476801, 53.7932282], [-1.7477757, 53.7929915], [-1.7479128, 53.7928164], [-1.7486512, 53.7932083], [-1.7492319, 53.79319], [-1.7492263, 53.7931284], [-1.7498829, 53.7926968], [-1.7500258, 53.792748]]], &quot;type&quot;: &quot;Polygon&quot;}, &quot;id&quot;: &quot;(\\u0027relation\\u0027, 8075220)&quot;, &quot;properties&quot;: {&quot;landuse&quot;: null, &quot;leaf_type&quot;: null, &quot;leisure&quot;: &quot;park&quot;, &quot;name&quot;: null, &quot;name:pronunciation&quot;: null, &quot;natural&quot;: null, &quot;note&quot;: null, &quot;source&quot;: null, &quot;type&quot;: &quot;multipolygon&quot;, &quot;wikidata&quot;: null, &quot;wikipedia&quot;: null}, &quot;type&quot;: &quot;Feature&quot;}, {&quot;bbox&quot;: [-1.7356091, 53.7927967, -1.7337501, 53.7942444], &quot;geometry&quot;: {&quot;coordinates&quot;: [[[-1.7352756, 53.7942332], [-1.7351542, 53.7942444], [-1.7342448, 53.7941701], [-1.7337501, 53.7941237], [-1.7341476, 53.7927967], [-1.7356091, 53.7929071], [-1.7353387, 53.7940544], [-1.7352974, 53.7940981], [-1.7352756, 53.7942332]]], &quot;type&quot;: &quot;Polygon&quot;}, &quot;id&quot;: &quot;(\\u0027way\\u0027, 27359839)&quot;, &quot;properties&quot;: {&quot;landuse&quot;: null, &quot;leaf_type&quot;: null, &quot;leisure&quot;: &quot;park&quot;, &quot;name&quot;: &quot;Seymour Park&quot;, &quot;name:pronunciation&quot;: null, &quot;natural&quot;: null, &quot;note&quot;: null, &quot;source&quot;: null, &quot;type&quot;: null, &quot;wikidata&quot;: null, &quot;wikipedia&quot;: null}, &quot;type&quot;: &quot;Feature&quot;}, {&quot;bbox&quot;: [-1.746399, 53.7697799, -1.7336691, 53.7814163], &quot;geometry&quot;: {&quot;coordinates&quot;: [[[-1.7455577, 53.77522], [-1.7441406, 53.7752686], [-1.7442692, 53.7761525], [-1.7461176, 53.7759304], [-1.7462088, 53.7761858], [-1.7462934, 53.7763703], [-1.7463276, 53.7765014], [-1.7463694, 53.7766267], [-1.746399, 53.7767156], [-1.7461918, 53.7767408], [-1.7461016, 53.7767794], [-1.7459918, 53.7768264], [-1.7458322, 53.7769521], [-1.7451768, 53.7780112], [-1.7451365, 53.7780716], [-1.7450643, 53.7781797], [-1.7427076, 53.7813082], [-1.7425952, 53.7813936], [-1.7424037, 53.7814163], [-1.7419177, 53.7806839], [-1.740697, 53.7792518], [-1.739894, 53.7786648], [-1.7373555, 53.7772634], [-1.7358884, 53.7764816], [-1.7336691, 53.7753518], [-1.7343838, 53.7746624], [-1.7346118, 53.7744966], [-1.735012, 53.7741834], [-1.7357274, 53.7737196], [-1.7360395, 53.7735048], [-1.7368362, 53.7729098], [-1.7373043, 53.7731203], [-1.737783, 53.7731747], [-1.7392409, 53.7732966], [-1.740459, 53.7727949], [-1.7391929, 53.7717592], [-1.7410963, 53.7708643], [-1.7413796, 53.7708467], [-1.7414291, 53.7708849], [-1.7414552, 53.7709854], [-1.7419482, 53.7708461], [-1.7420507, 53.7709732], [-1.7427719, 53.7707766], [-1.7428936, 53.770641], [-1.7430458, 53.7706129], [-1.7433444, 53.7705623], [-1.7436601, 53.770532], [-1.7438161, 53.7704926], [-1.7439435, 53.7704218], [-1.7439834, 53.7703161], [-1.7439606, 53.770224], [-1.7438864, 53.7701003], [-1.7436829, 53.7699857], [-1.7438864, 53.7698395], [-1.744225, 53.7699643], [-1.7447176, 53.7700048], [-1.7448602, 53.7699351], [-1.7449611, 53.7697799], [-1.7451691, 53.7699869], [-1.7455059, 53.7703745], [-1.7457494, 53.7706547], [-1.7457791, 53.770845], [-1.7453923, 53.770985], [-1.7443298, 53.7713894], [-1.743913, 53.7715272], [-1.7439519, 53.7717079], [-1.7433896, 53.7718174], [-1.7432853, 53.7719029], [-1.7432624, 53.7719757], [-1.7412201, 53.7723996], [-1.7409054, 53.7741511], [-1.7409228, 53.7742963], [-1.7415368, 53.7742795], [-1.7430904, 53.7742494], [-1.7446729, 53.7742075], [-1.7456612, 53.7742031], [-1.7457018, 53.7743155], [-1.7457612, 53.7746668], [-1.7457914, 53.7748626], [-1.7458756, 53.7752091], [-1.7457667, 53.7752128], [-1.7457452, 53.7751422], [-1.7455541, 53.7751584], [-1.7455577, 53.77522]]], &quot;type&quot;: &quot;Polygon&quot;}, &quot;id&quot;: &quot;(\\u0027way\\u0027, 27383003)&quot;, &quot;properties&quot;: {&quot;landuse&quot;: null, &quot;leaf_type&quot;: null, &quot;leisure&quot;: &quot;park&quot;, &quot;name&quot;: &quot;Bowling Park&quot;, &quot;name:pronunciation&quot;: &quot;\\u02c8bo\\u028al\\u026a\\u014b \\u02c8p\\u0251\\u02d0k&quot;, &quot;natural&quot;: null, &quot;note&quot;: null, &quot;source&quot;: null, &quot;type&quot;: null, &quot;wikidata&quot;: &quot;Q4951187&quot;, &quot;wikipedia&quot;: &quot;en:Bowling Park, Bradford&quot;}, &quot;type&quot;: &quot;Feature&quot;}, {&quot;bbox&quot;: [-1.7505176, 53.8055605, -1.736209, 53.8110023], &quot;geometry&quot;: {&quot;coordinates&quot;: [[[-1.7504427, 53.8078201], [-1.7504904, 53.8081214], [-1.7505176, 53.8083676], [-1.7504763, 53.8084939], [-1.7502068, 53.8084484], [-1.7500279, 53.8086295], [-1.7497301, 53.8087777], [-1.7498522, 53.8089005], [-1.7493486, 53.8091488], [-1.7483519, 53.809427], [-1.7478354, 53.8095768], [-1.7468468, 53.8099251], [-1.7453577, 53.8106153], [-1.7451727, 53.8104801], [-1.7448534, 53.8104204], [-1.7444332, 53.8104366], [-1.7441529, 53.8104111], [-1.7431443, 53.8102373], [-1.7425426, 53.8101354], [-1.7417493, 53.8100804], [-1.7414321, 53.8100802], [-1.7411269, 53.8101531], [-1.7406975, 53.8103492], [-1.7405503, 53.8103869], [-1.7401238, 53.810439], [-1.7398519, 53.8105382], [-1.7396387, 53.8106762], [-1.7394318, 53.8108845], [-1.7394535, 53.8109329], [-1.738189, 53.8110021], [-1.7377592, 53.8110023], [-1.737409, 53.8109715], [-1.7369856, 53.8109141], [-1.7365338, 53.8108125], [-1.736209, 53.8107273], [-1.7363439, 53.8105997], [-1.7365234, 53.8106214], [-1.7367399, 53.810411], [-1.7368844, 53.8103917], [-1.737519, 53.8097425], [-1.7382101, 53.809121], [-1.7384418, 53.8088993], [-1.7389933, 53.8086522], [-1.739338, 53.8086108], [-1.739504, 53.8085851], [-1.7397576, 53.808511], [-1.7402642, 53.8083619], [-1.7409051, 53.8081733], [-1.7409352, 53.8081162], [-1.7410468, 53.8080795], [-1.7412077, 53.8080567], [-1.7416073, 53.8080225], [-1.7416305, 53.8077996], [-1.7416547, 53.8073782], [-1.7417517, 53.8066395], [-1.7417849, 53.8063686], [-1.7418367, 53.8062676], [-1.7418913, 53.8061612], [-1.7424098, 53.8063006], [-1.7426443, 53.8060654], [-1.7427233, 53.8056423], [-1.7429498, 53.8055605], [-1.7431456, 53.8056459], [-1.7446181, 53.8059838], [-1.7449567, 53.8060526], [-1.745411, 53.8061449], [-1.7491463, 53.8074252], [-1.7498224, 53.8076374], [-1.7504427, 53.8078201]]], &quot;type&quot;: &quot;Polygon&quot;}, &quot;id&quot;: &quot;(\\u0027way\\u0027, 27413170)&quot;, &quot;properties&quot;: {&quot;landuse&quot;: null, &quot;leaf_type&quot;: null, &quot;leisure&quot;: &quot;park&quot;, &quot;name&quot;: &quot;Peel Park&quot;, &quot;name:pronunciation&quot;: null, &quot;natural&quot;: null, &quot;note&quot;: null, &quot;source&quot;: null, &quot;type&quot;: null, &quot;wikidata&quot;: &quot;Q7160240&quot;, &quot;wikipedia&quot;: null}, &quot;type&quot;: &quot;Feature&quot;}, {&quot;bbox&quot;: [-1.7798582, 53.7805613, -1.7707858, 53.7846795], &quot;geometry&quot;: {&quot;coordinates&quot;: [[[-1.7798582, 53.7813037], [-1.7796662, 53.7811971], [-1.7792624, 53.7810088], [-1.7788409, 53.7809544], [-1.7784373, 53.7808945], [-1.7778438, 53.7808285], [-1.7768926, 53.7807026], [-1.7765469, 53.7806587], [-1.7759046, 53.7805613], [-1.7737029, 53.7823414], [-1.772161, 53.7820718], [-1.7717703, 53.7820129], [-1.7707858, 53.7842663], [-1.7715365, 53.7844204], [-1.7716814, 53.7843072], [-1.7719345, 53.7843143], [-1.7737733, 53.7846795], [-1.777481, 53.7826416], [-1.7794678, 53.7815234], [-1.7798582, 53.7813037]]], &quot;type&quot;: &quot;Polygon&quot;}, &quot;id&quot;: &quot;(\\u0027way\\u0027, 27438406)&quot;, &quot;properties&quot;: {&quot;landuse&quot;: null, &quot;leaf_type&quot;: null, &quot;leisure&quot;: &quot;park&quot;, &quot;name&quot;: &quot;Horton Park&quot;, &quot;name:pronunciation&quot;: null, &quot;natural&quot;: null, &quot;note&quot;: null, &quot;source&quot;: null, &quot;type&quot;: null, &quot;wikidata&quot;: &quot;Q5906903&quot;, &quot;wikipedia&quot;: null}, &quot;type&quot;: &quot;Feature&quot;}, {&quot;bbox&quot;: [-1.77931, 53.8093506, -1.7676643, 53.8155492], &quot;geometry&quot;: {&quot;coordinates&quot;: [[[-1.7712472, 53.810899], [-1.7710673, 53.81089], [-1.7709942, 53.8108845], [-1.7703089, 53.8106115], [-1.7696163, 53.8102723], [-1.7694682, 53.810191], [-1.7692001, 53.8100411], [-1.7686757, 53.8095899], [-1.7685422, 53.8094538], [-1.7684092, 53.8093774], [-1.768257, 53.8093506], [-1.7681297, 53.8093523], [-1.7678916, 53.8094181], [-1.7677311, 53.8094674], [-1.7677155, 53.8096836], [-1.7676643, 53.8104854], [-1.7677286, 53.8108195], [-1.7678306, 53.8110729], [-1.7679781, 53.8113358], [-1.7683026, 53.8118157], [-1.7685628, 53.8121198], [-1.7689034, 53.8124935], [-1.7691502, 53.8127263], [-1.7695659, 53.8130494], [-1.7699254, 53.8132821], [-1.7703304, 53.8134959], [-1.7711753, 53.8139552], [-1.7717868, 53.8143289], [-1.7721865, 53.814663], [-1.7724493, 53.814937], [-1.7728195, 53.8154141], [-1.7729364, 53.8154774], [-1.773123, 53.8155492], [-1.7735474, 53.8154505], [-1.7739169, 53.8153707], [-1.7741865, 53.8153207], [-1.7746258, 53.8152808], [-1.7750552, 53.8152009], [-1.7753547, 53.8151709], [-1.7763311, 53.8150986], [-1.7766129, 53.8150911], [-1.7775309, 53.8150083], [-1.7778973, 53.8150402], [-1.7785737, 53.8151376], [-1.7789357, 53.8152005], [-1.7791783, 53.815137], [-1.7792993, 53.8150323], [-1.77931, 53.8148944], [-1.779245, 53.8147145], [-1.7791591, 53.8145718], [-1.7789835, 53.8144396], [-1.7788304, 53.8142799], [-1.778671, 53.8141253], [-1.7780371, 53.8136148], [-1.7737871, 53.8115663], [-1.7730668, 53.8113487], [-1.772205, 53.8110935], [-1.7717295, 53.8109931], [-1.7712472, 53.810899]]], &quot;type&quot;: &quot;Polygon&quot;}, &quot;id&quot;: &quot;(\\u0027way\\u0027, 28071166)&quot;, &quot;properties&quot;: {&quot;landuse&quot;: null, &quot;leaf_type&quot;: null, &quot;leisure&quot;: &quot;park&quot;, &quot;name&quot;: &quot;Lister Park&quot;, &quot;name:pronunciation&quot;: null, &quot;natural&quot;: null, &quot;note&quot;: null, &quot;source&quot;: &quot;survey&quot;, &quot;type&quot;: null, &quot;wikidata&quot;: &quot;Q12061322&quot;, &quot;wikipedia&quot;: null}, &quot;type&quot;: &quot;Feature&quot;}, {&quot;bbox&quot;: [-1.768713, 53.8040799, -1.766584, 53.8049295], &quot;geometry&quot;: {&quot;coordinates&quot;: [[[-1.7684447, 53.8040799], [-1.768713, 53.8047089], [-1.768708, 53.804721], [-1.7686949, 53.8047349], [-1.768677, 53.8047439], [-1.7678025, 53.8049295], [-1.7676993, 53.8047764], [-1.7672527, 53.8048621], [-1.7671973, 53.8047911], [-1.7671023, 53.8046679], [-1.7668358, 53.8044746], [-1.766584, 53.8043224], [-1.7665893, 53.8043166], [-1.7673122, 53.8042258], [-1.7675944, 53.8041909], [-1.7684447, 53.8040799]]], &quot;type&quot;: &quot;Polygon&quot;}, &quot;id&quot;: &quot;(\\u0027way\\u0027, 28667854)&quot;, &quot;properties&quot;: {&quot;landuse&quot;: null, &quot;leaf_type&quot;: null, &quot;leisure&quot;: &quot;park&quot;, &quot;name&quot;: &quot;Grosvenor Park&quot;, &quot;name:pronunciation&quot;: null, &quot;natural&quot;: null, &quot;note&quot;: null, &quot;source&quot;: null, &quot;type&quot;: null, &quot;wikidata&quot;: null, &quot;wikipedia&quot;: null}, &quot;type&quot;: &quot;Feature&quot;}, {&quot;bbox&quot;: [-1.7223466, 53.798673, -1.7177009, 53.8025097], &quot;geometry&quot;: {&quot;coordinates&quot;: [[[-1.7223466, 53.8019268], [-1.7216334, 53.8010616], [-1.7211476, 53.8002373], [-1.7206156, 53.7992673], [-1.7204922, 53.7990966], [-1.720045, 53.7991899], [-1.719698, 53.798673], [-1.7186378, 53.79901], [-1.7177009, 53.7992787], [-1.7178846, 53.7994808], [-1.7181135, 53.7997327], [-1.7186301, 53.8003011], [-1.7195129, 53.8013166], [-1.7201799, 53.8020634], [-1.7205693, 53.8025097], [-1.7223466, 53.8019268]]], &quot;type&quot;: &quot;Polygon&quot;}, &quot;id&quot;: &quot;(\\u0027way\\u0027, 142734326)&quot;, &quot;properties&quot;: {&quot;landuse&quot;: null, &quot;leaf_type&quot;: null, &quot;leisure&quot;: &quot;park&quot;, &quot;name&quot;: &quot;Bradford Moor Park&quot;, &quot;name:pronunciation&quot;: null, &quot;natural&quot;: null, &quot;note&quot;: null, &quot;source&quot;: &quot;OS_OpenData_StreetView;Bing;local_knowledge&quot;, &quot;type&quot;: null, &quot;wikidata&quot;: null, &quot;wikipedia&quot;: null}, &quot;type&quot;: &quot;Feature&quot;}, {&quot;bbox&quot;: [-1.7283026, 53.7992451, -1.7258498, 53.8012001], &quot;geometry&quot;: {&quot;coordinates&quot;: [[[-1.7264271, 53.7992451], [-1.7264832, 53.799405], [-1.7273874, 53.7999602], [-1.7275897, 53.8000172], [-1.7277164, 53.8001319], [-1.7283026, 53.8004877], [-1.728123, 53.8005575], [-1.7278472, 53.8006963], [-1.7276479, 53.8005998], [-1.7273649, 53.8001768], [-1.7266952, 53.8002906], [-1.7267642, 53.8005575], [-1.7270043, 53.8009588], [-1.7276173, 53.8008592], [-1.7272546, 53.8010523], [-1.7269787, 53.8011971], [-1.726851, 53.8012001], [-1.7262993, 53.8000688], [-1.7259775, 53.7995167], [-1.7258498, 53.7993507], [-1.726187, 53.7993387], [-1.7264271, 53.7992451]]], &quot;type&quot;: &quot;Polygon&quot;}, &quot;id&quot;: &quot;(\\u0027way\\u0027, 142734341)&quot;, &quot;properties&quot;: {&quot;landuse&quot;: null, &quot;leaf_type&quot;: null, &quot;leisure&quot;: null, &quot;name&quot;: null, &quot;name:pronunciation&quot;: null, &quot;natural&quot;: &quot;wood&quot;, &quot;note&quot;: null, &quot;source&quot;: &quot;Bing&quot;, &quot;type&quot;: null, &quot;wikidata&quot;: null, &quot;wikipedia&quot;: null}, &quot;type&quot;: &quot;Feature&quot;}, {&quot;bbox&quot;: [-1.7635579, 53.8038695, -1.7632522, 53.8040683], &quot;geometry&quot;: {&quot;coordinates&quot;: [[[-1.7635579, 53.804012], [-1.7633616, 53.8040683], [-1.7632522, 53.8039297], [-1.7634506, 53.8038695], [-1.7635579, 53.804012]]], &quot;type&quot;: &quot;Polygon&quot;}, &quot;id&quot;: &quot;(\\u0027way\\u0027, 148433566)&quot;, &quot;properties&quot;: {&quot;landuse&quot;: null, &quot;leaf_type&quot;: null, &quot;leisure&quot;: &quot;park&quot;, &quot;name&quot;: null, &quot;name:pronunciation&quot;: null, &quot;natural&quot;: null, &quot;note&quot;: &quot;check me&quot;, &quot;source&quot;: &quot;Bing&quot;, &quot;type&quot;: null, &quot;wikidata&quot;: null, &quot;wikipedia&quot;: null}, &quot;type&quot;: &quot;Feature&quot;}, {&quot;bbox&quot;: [-1.7382101, 53.8081745, -1.7339711, 53.8103917], &quot;geometry&quot;: {&quot;coordinates&quot;: [[[-1.7382101, 53.809121], [-1.737944, 53.808974], [-1.7378839, 53.8089031], [-1.7375762, 53.808687], [-1.7374327, 53.8085765], [-1.7368904, 53.8081745], [-1.7368601, 53.808242], [-1.7365473, 53.8082557], [-1.7345381, 53.8083839], [-1.7344821, 53.8084541], [-1.7344809, 53.8087446], [-1.7344768, 53.8089223], [-1.7339711, 53.8089585], [-1.7344681, 53.8091321], [-1.7344139, 53.8091873], [-1.7343665, 53.8092356], [-1.7342931, 53.8093103], [-1.7342651, 53.8093388], [-1.7368844, 53.8103917], [-1.737519, 53.8097425], [-1.7382101, 53.809121]]], &quot;type&quot;: &quot;Polygon&quot;}, &quot;id&quot;: &quot;(\\u0027way\\u0027, 149672964)&quot;, &quot;properties&quot;: {&quot;landuse&quot;: null, &quot;leaf_type&quot;: null, &quot;leisure&quot;: null, &quot;name&quot;: null, &quot;name:pronunciation&quot;: null, &quot;natural&quot;: &quot;scrub&quot;, &quot;note&quot;: null, &quot;source&quot;: &quot;Bing&quot;, &quot;type&quot;: null, &quot;wikidata&quot;: null, &quot;wikipedia&quot;: null}, &quot;type&quot;: &quot;Feature&quot;}, {&quot;bbox&quot;: [-1.7634239, 53.7974922, -1.7614391, 53.7990447], &quot;geometry&quot;: {&quot;coordinates&quot;: [[[-1.7622169, 53.7990447], [-1.7619386, 53.7985901], [-1.7615088, 53.7978882], [-1.7614391, 53.7975999], [-1.7615088, 53.797508], [-1.7616322, 53.7974922], [-1.7617019, 53.7975143], [-1.7629027, 53.7980119], [-1.763149, 53.7981139], [-1.7633595, 53.7982716], [-1.7631865, 53.7984157], [-1.7634239, 53.7985061], [-1.7622169, 53.7990447]]], &quot;type&quot;: &quot;Polygon&quot;}, &quot;id&quot;: &quot;(\\u0027way\\u0027, 152323075)&quot;, &quot;properties&quot;: {&quot;landuse&quot;: null, &quot;leaf_type&quot;: null, &quot;leisure&quot;: &quot;park&quot;, &quot;name&quot;: &quot;Infirmary Fields&quot;, &quot;name:pronunciation&quot;: null, &quot;natural&quot;: null, &quot;note&quot;: null, &quot;source&quot;: &quot;Bing&quot;, &quot;type&quot;: null, &quot;wikidata&quot;: null, &quot;wikipedia&quot;: null}, &quot;type&quot;: &quot;Feature&quot;}, {&quot;bbox&quot;: [-1.7434949, 53.7828672, -1.7408998, 53.7840117], &quot;geometry&quot;: {&quot;coordinates&quot;: [[[-1.7434949, 53.7834979], [-1.7432749, 53.7836691], [-1.7429155, 53.7838306], [-1.7425156, 53.7833927], [-1.7422567, 53.7833962], [-1.7410111, 53.7839711], [-1.7408998, 53.7840117], [-1.741742, 53.7835014], [-1.7424327, 53.7832444], [-1.7423415, 53.7831461], [-1.7431569, 53.7828672], [-1.7434479, 53.7832827], [-1.7434949, 53.7834979]]], &quot;type&quot;: &quot;Polygon&quot;}, &quot;id&quot;: &quot;(\\u0027way\\u0027, 152326418)&quot;, &quot;properties&quot;: {&quot;landuse&quot;: null, &quot;leaf_type&quot;: null, &quot;leisure&quot;: null, &quot;name&quot;: null, &quot;name:pronunciation&quot;: null, &quot;natural&quot;: &quot;scrub&quot;, &quot;note&quot;: null, &quot;source&quot;: &quot;Bing&quot;, &quot;type&quot;: null, &quot;wikidata&quot;: null, &quot;wikipedia&quot;: null}, &quot;type&quot;: &quot;Feature&quot;}, {&quot;bbox&quot;: [-1.7711752, 53.8050761, -1.7706333, 53.8055027], &quot;geometry&quot;: {&quot;coordinates&quot;: [[[-1.7711752, 53.8054663], [-1.77084, 53.8055027], [-1.7707835, 53.8054926], [-1.7706333, 53.8051458], [-1.7709927, 53.8050761], [-1.771027, 53.805152], [-1.7710952, 53.8052988], [-1.7711752, 53.8054663]]], &quot;type&quot;: &quot;Polygon&quot;}, &quot;id&quot;: &quot;(\\u0027way\\u0027, 152437977)&quot;, &quot;properties&quot;: {&quot;landuse&quot;: null, &quot;leaf_type&quot;: null, &quot;leisure&quot;: &quot;park&quot;, &quot;name&quot;: null, &quot;name:pronunciation&quot;: null, &quot;natural&quot;: null, &quot;note&quot;: null, &quot;source&quot;: &quot;Bing&quot;, &quot;type&quot;: null, &quot;wikidata&quot;: null, &quot;wikipedia&quot;: null}, &quot;type&quot;: &quot;Feature&quot;}, {&quot;bbox&quot;: [-1.7697374, 53.8036051, -1.7693971, 53.8038501], &quot;geometry&quot;: {&quot;coordinates&quot;: [[[-1.7696572, 53.8036051], [-1.7697374, 53.8037788], [-1.7694853, 53.8038501], [-1.7693971, 53.80364], [-1.7696572, 53.8036051]]], &quot;type&quot;: &quot;Polygon&quot;}, &quot;id&quot;: &quot;(\\u0027way\\u0027, 152437987)&quot;, &quot;properties&quot;: {&quot;landuse&quot;: null, &quot;leaf_type&quot;: null, &quot;leisure&quot;: &quot;park&quot;, &quot;name&quot;: null, &quot;name:pronunciation&quot;: null, &quot;natural&quot;: null, &quot;note&quot;: null, &quot;source&quot;: &quot;Bing&quot;, &quot;type&quot;: null, &quot;wikidata&quot;: null, &quot;wikipedia&quot;: null}, &quot;type&quot;: &quot;Feature&quot;}, {&quot;bbox&quot;: [-1.7696143, 53.8022064, -1.7683963, 53.8035798], &quot;geometry&quot;: {&quot;coordinates&quot;: [[[-1.7695848, 53.8035338], [-1.7693649, 53.8035798], [-1.7692442, 53.8032376], [-1.7690427, 53.803047], [-1.7688499, 53.8028733], [-1.768796, 53.8027936], [-1.7685388, 53.8028274], [-1.7683963, 53.8027904], [-1.7685495, 53.8027466], [-1.7685522, 53.8027244], [-1.7686916, 53.8026563], [-1.7687238, 53.8025628], [-1.7686568, 53.8024044], [-1.7686541, 53.8023078], [-1.7687639, 53.8022658], [-1.7687909, 53.8022555], [-1.7689974, 53.8022064], [-1.7690508, 53.8022201], [-1.7694048, 53.8026494], [-1.7691017, 53.8027381], [-1.7696143, 53.8033786], [-1.7695068, 53.8034224], [-1.7695848, 53.8035338]]], &quot;type&quot;: &quot;Polygon&quot;}, &quot;id&quot;: &quot;(\\u0027way\\u0027, 152438001)&quot;, &quot;properties&quot;: {&quot;landuse&quot;: null, &quot;leaf_type&quot;: null, &quot;leisure&quot;: &quot;park&quot;, &quot;name&quot;: null, &quot;name:pronunciation&quot;: null, &quot;natural&quot;: null, &quot;note&quot;: null, &quot;source&quot;: &quot;Bing&quot;, &quot;type&quot;: null, &quot;wikidata&quot;: null, &quot;wikipedia&quot;: null}, &quot;type&quot;: &quot;Feature&quot;}, {&quot;bbox&quot;: [-1.7464562, 53.7890886, -1.7454209, 53.7902418], &quot;geometry&quot;: {&quot;coordinates&quot;: [[[-1.7454638, 53.7892724], [-1.7454209, 53.7891615], [-1.7455282, 53.7890886], [-1.7456891, 53.7891013], [-1.7460646, 53.7893294], [-1.7463471, 53.7897189], [-1.7464562, 53.7900298], [-1.7464562, 53.7901914], [-1.7461987, 53.7901978], [-1.7460359, 53.7902418], [-1.7458983, 53.7902358], [-1.7457535, 53.7901692], [-1.7457481, 53.7898809], [-1.745732, 53.7896305], [-1.7456623, 53.7895132], [-1.745555, 53.7893801], [-1.7454638, 53.7892724]]], &quot;type&quot;: &quot;Polygon&quot;}, &quot;id&quot;: &quot;(\\u0027way\\u0027, 152467776)&quot;, &quot;properties&quot;: {&quot;landuse&quot;: null, &quot;leaf_type&quot;: null, &quot;leisure&quot;: null, &quot;name&quot;: null, &quot;name:pronunciation&quot;: null, &quot;natural&quot;: &quot;wood&quot;, &quot;note&quot;: null, &quot;source&quot;: &quot;Bing&quot;, &quot;type&quot;: null, &quot;wikidata&quot;: null, &quot;wikipedia&quot;: null}, &quot;type&quot;: &quot;Feature&quot;}, {&quot;bbox&quot;: [-1.735797, 53.7920894, -1.7341233, 53.7923841], &quot;geometry&quot;: {&quot;coordinates&quot;: [[[-1.735797, 53.7923382], [-1.7356683, 53.7923841], [-1.7341233, 53.7922875], [-1.7341233, 53.7920894], [-1.7342789, 53.7921021], [-1.7342816, 53.7921417], [-1.735797, 53.7922669], [-1.735797, 53.7923382]]], &quot;type&quot;: &quot;Polygon&quot;}, &quot;id&quot;: &quot;(\\u0027way\\u0027, 152794736)&quot;, &quot;properties&quot;: {&quot;landuse&quot;: null, &quot;leaf_type&quot;: null, &quot;leisure&quot;: null, &quot;name&quot;: null, &quot;name:pronunciation&quot;: null, &quot;natural&quot;: &quot;wood&quot;, &quot;note&quot;: null, &quot;source&quot;: &quot;Bing&quot;, &quot;type&quot;: null, &quot;wikidata&quot;: null, &quot;wikipedia&quot;: null}, &quot;type&quot;: &quot;Feature&quot;}, {&quot;bbox&quot;: [-1.743004, 53.793246, -1.7424702, 53.7934932], &quot;geometry&quot;: {&quot;coordinates&quot;: [[[-1.743004, 53.7932555], [-1.7428484, 53.7934726], [-1.7427706, 53.7934932], [-1.7426779, 53.7934491], [-1.7426875, 53.7934203], [-1.7425948, 53.7933096], [-1.7425412, 53.7933191], [-1.7424702, 53.793246], [-1.743004, 53.7932555]]], &quot;type&quot;: &quot;Polygon&quot;}, &quot;id&quot;: &quot;(\\u0027way\\u0027, 152796908)&quot;, &quot;properties&quot;: {&quot;landuse&quot;: null, &quot;leaf_type&quot;: null, &quot;leisure&quot;: &quot;park&quot;, &quot;name&quot;: null, &quot;name:pronunciation&quot;: null, &quot;natural&quot;: null, &quot;note&quot;: null, &quot;source&quot;: &quot;Bing&quot;, &quot;type&quot;: null, &quot;wikidata&quot;: null, &quot;wikipedia&quot;: null}, &quot;type&quot;: &quot;Feature&quot;}, {&quot;bbox&quot;: [-1.7424541, 53.7932365, -1.7420116, 53.7933918], &quot;geometry&quot;: {&quot;coordinates&quot;: [[[-1.7420116, 53.7932825], [-1.7420679, 53.7932365], [-1.7422583, 53.7932476], [-1.7424085, 53.79333], [-1.7424541, 53.7933918], [-1.7420116, 53.7932825]]], &quot;type&quot;: &quot;Polygon&quot;}, &quot;id&quot;: &quot;(\\u0027way\\u0027, 152796915)&quot;, &quot;properties&quot;: {&quot;landuse&quot;: null, &quot;leaf_type&quot;: null, &quot;leisure&quot;: null, &quot;name&quot;: null, &quot;name:pronunciation&quot;: null, &quot;natural&quot;: &quot;wood&quot;, &quot;note&quot;: null, &quot;source&quot;: &quot;Bing&quot;, &quot;type&quot;: null, &quot;wikidata&quot;: null, &quot;wikipedia&quot;: null}, &quot;type&quot;: &quot;Feature&quot;}, {&quot;bbox&quot;: [-1.7434788, 53.7940715, -1.7432078, 53.7945357], &quot;geometry&quot;: {&quot;coordinates&quot;: [[[-1.7432078, 53.794119], [-1.7432185, 53.7940826], [-1.7432534, 53.7940715], [-1.7434439, 53.7941079], [-1.7434224, 53.7941507], [-1.743358, 53.7941285], [-1.7432949, 53.7942143], [-1.7433419, 53.7942331], [-1.7433071, 53.7942854], [-1.7433661, 53.7943123], [-1.7434036, 53.794279], [-1.7434788, 53.794313], [-1.7434301, 53.7943697], [-1.7433613, 53.7944362], [-1.7434747, 53.7944772], [-1.7434331, 53.7945357], [-1.7433217, 53.7944931], [-1.7432561, 53.7942759], [-1.7432185, 53.7941602], [-1.7432078, 53.794119]]], &quot;type&quot;: &quot;Polygon&quot;}, &quot;id&quot;: &quot;(\\u0027way\\u0027, 152796916)&quot;, &quot;properties&quot;: {&quot;landuse&quot;: null, &quot;leaf_type&quot;: null, &quot;leisure&quot;: null, &quot;name&quot;: null, &quot;name:pronunciation&quot;: null, &quot;natural&quot;: &quot;scrub&quot;, &quot;note&quot;: null, &quot;source&quot;: &quot;Bing&quot;, &quot;type&quot;: null, &quot;wikidata&quot;: null, &quot;wikipedia&quot;: null}, &quot;type&quot;: &quot;Feature&quot;}, {&quot;bbox&quot;: [-1.7543636, 53.7930464, -1.7533306, 53.7935445], &quot;geometry&quot;: {&quot;coordinates&quot;: [[[-1.7536364, 53.7932001], [-1.7543636, 53.7935445], [-1.7534355, 53.7931387], [-1.7533306, 53.7931066], [-1.7533897, 53.7930464], [-1.7534422, 53.7930697], [-1.7534916, 53.793048], [-1.7535291, 53.7930575], [-1.7535539, 53.7930859], [-1.7536311, 53.7930512], [-1.7536364, 53.7930845], [-1.7536123, 53.7930924], [-1.7536632, 53.7931463], [-1.7537008, 53.7931463], [-1.7537212, 53.7931711], [-1.7536364, 53.7932001]]], &quot;type&quot;: &quot;Polygon&quot;}, &quot;id&quot;: &quot;(\\u0027way\\u0027, 159035228)&quot;, &quot;properties&quot;: {&quot;landuse&quot;: null, &quot;leaf_type&quot;: null, &quot;leisure&quot;: &quot;park&quot;, &quot;name&quot;: null, &quot;name:pronunciation&quot;: null, &quot;natural&quot;: null, &quot;note&quot;: null, &quot;source&quot;: null, &quot;type&quot;: null, &quot;wikidata&quot;: null, &quot;wikipedia&quot;: null}, &quot;type&quot;: &quot;Feature&quot;}, {&quot;bbox&quot;: [-1.7532314, 53.7928991, -1.7528536, 53.793048], &quot;geometry&quot;: {&quot;coordinates&quot;: [[[-1.7528536, 53.7929339], [-1.753159, 53.793048], [-1.7532314, 53.7929846], [-1.7531483, 53.792953], [-1.7531375, 53.7929165], [-1.7530651, 53.7928991], [-1.7528536, 53.7929339]]], &quot;type&quot;: &quot;Polygon&quot;}, &quot;id&quot;: &quot;(\\u0027way\\u0027, 159035229)&quot;, &quot;properties&quot;: {&quot;landuse&quot;: null, &quot;leaf_type&quot;: null, &quot;leisure&quot;: &quot;park&quot;, &quot;name&quot;: null, &quot;name:pronunciation&quot;: null, &quot;natural&quot;: null, &quot;note&quot;: null, &quot;source&quot;: null, &quot;type&quot;: null, &quot;wikidata&quot;: null, &quot;wikipedia&quot;: null}, &quot;type&quot;: &quot;Feature&quot;}, {&quot;bbox&quot;: [-1.75402, 53.7926234, -1.7538097, 53.7928484], &quot;geometry&quot;: {&quot;coordinates&quot;: [[[-1.75402, 53.7926836], [-1.7539663, 53.7926915], [-1.7539197, 53.7927924], [-1.7539824, 53.7928325], [-1.7539771, 53.7928484], [-1.7538526, 53.7928478], [-1.7538751, 53.7927454], [-1.7538322, 53.792701], [-1.753817, 53.7926695], [-1.7538097, 53.7926545], [-1.7538815, 53.79264], [-1.7539637, 53.7926234], [-1.75402, 53.7926836]]], &quot;type&quot;: &quot;Polygon&quot;}, &quot;id&quot;: &quot;(\\u0027way\\u0027, 159035230)&quot;, &quot;properties&quot;: {&quot;landuse&quot;: null, &quot;leaf_type&quot;: null, &quot;leisure&quot;: &quot;park&quot;, &quot;name&quot;: null, &quot;name:pronunciation&quot;: null, &quot;natural&quot;: null, &quot;note&quot;: null, &quot;source&quot;: null, &quot;type&quot;: null, &quot;wikidata&quot;: null, &quot;wikipedia&quot;: null}, &quot;type&quot;: &quot;Feature&quot;}, {&quot;bbox&quot;: [-1.7539733, 53.7928928, -1.7537131, 53.7931399], &quot;geometry&quot;: {&quot;coordinates&quot;: [[[-1.7538376, 53.7931367], [-1.7539036, 53.7931108], [-1.7538993, 53.7931019], [-1.7539073, 53.7930908], [-1.7539304, 53.7930855], [-1.7539315, 53.7929878], [-1.7539733, 53.7928938], [-1.753859, 53.7928928], [-1.7538456, 53.7929545], [-1.7538054, 53.7929561], [-1.7537759, 53.7929688], [-1.7537963, 53.7930015], [-1.7537131, 53.7930221], [-1.7537383, 53.7930417], [-1.7537678, 53.7930433], [-1.7538161, 53.7931003], [-1.753792, 53.793113], [-1.7538215, 53.7931399], [-1.7538376, 53.7931367]]], &quot;type&quot;: &quot;Polygon&quot;}, &quot;id&quot;: &quot;(\\u0027way\\u0027, 159035238)&quot;, &quot;properties&quot;: {&quot;landuse&quot;: null, &quot;leaf_type&quot;: null, &quot;leisure&quot;: &quot;park&quot;, &quot;name&quot;: null, &quot;name:pronunciation&quot;: null, &quot;natural&quot;: null, &quot;note&quot;: null, &quot;source&quot;: null, &quot;type&quot;: null, &quot;wikidata&quot;: null, &quot;wikipedia&quot;: null}, &quot;type&quot;: &quot;Feature&quot;}, {&quot;bbox&quot;: [-1.7518579, 53.7802877, -1.7504663, 53.7808387], &quot;geometry&quot;: {&quot;coordinates&quot;: [[[-1.7518579, 53.7807416], [-1.751757, 53.7802877], [-1.7504663, 53.7803896], [-1.7505998, 53.7808387], [-1.7512427, 53.7807772], [-1.7518579, 53.7807416]]], &quot;type&quot;: &quot;Polygon&quot;}, &quot;id&quot;: &quot;(\\u0027way\\u0027, 175586576)&quot;, &quot;properties&quot;: {&quot;landuse&quot;: null, &quot;leaf_type&quot;: null, &quot;leisure&quot;: &quot;park&quot;, &quot;name&quot;: null, &quot;name:pronunciation&quot;: null, &quot;natural&quot;: null, &quot;note&quot;: null, &quot;source&quot;: &quot;Bing&quot;, &quot;type&quot;: null, &quot;wikidata&quot;: null, &quot;wikipedia&quot;: null}, &quot;type&quot;: &quot;Feature&quot;}, {&quot;bbox&quot;: [-1.7527134, 53.8003537, -1.7477927, 53.8099751], &quot;geometry&quot;: {&quot;coordinates&quot;: [[[-1.7494392, 53.8095699], [-1.7494145, 53.8095433], [-1.7496077, 53.8094896], [-1.7496844, 53.809508], [-1.7497867, 53.8095835], [-1.7502873, 53.8094615], [-1.7504911, 53.8094566], [-1.7509837, 53.8094449], [-1.7515389, 53.8092517], [-1.7518433, 53.8088734], [-1.7519114, 53.8081823], [-1.7517808, 53.8076697], [-1.7514779, 53.8073685], [-1.7511071, 53.8071259], [-1.7509312, 53.8067854], [-1.7508594, 53.8064681], [-1.7510051, 53.8061381], [-1.7513709, 53.8056394], [-1.7514563, 53.8052451], [-1.7514507, 53.8049765], [-1.7514259, 53.8045858], [-1.7511404, 53.8045852], [-1.7508108, 53.8041248], [-1.7505986, 53.8036443], [-1.7499643, 53.8027405], [-1.750059, 53.8026402], [-1.7495908, 53.8018676], [-1.7493305, 53.8019112], [-1.7489464, 53.8013577], [-1.7486179, 53.8014188], [-1.7481043, 53.8004506], [-1.7481772, 53.8003537], [-1.7490785, 53.8009809], [-1.7494086, 53.8015767], [-1.7497443, 53.8014673], [-1.7503274, 53.8018411], [-1.7511216, 53.8024226], [-1.7506079, 53.8025974], [-1.7512249, 53.8033072], [-1.7514275, 53.8032823], [-1.7517709, 53.8038578], [-1.7518738, 53.8041207], [-1.7517257, 53.8041479], [-1.7519425, 53.8047107], [-1.7521005, 53.8046916], [-1.7521867, 53.8048972], [-1.7518567, 53.8049385], [-1.7519378, 53.8053446], [-1.7518475, 53.805425], [-1.7517304, 53.8056498], [-1.7515739, 53.8059732], [-1.7519281, 53.8060605], [-1.7520149, 53.8062819], [-1.7518935, 53.8063798], [-1.7518099, 53.8065217], [-1.7517836, 53.8067427], [-1.7519061, 53.8069949], [-1.7520427, 53.8071435], [-1.7523479, 53.8071974], [-1.7526337, 53.8073828], [-1.7525355, 53.8076077], [-1.7525044, 53.8078869], [-1.7525827, 53.8086105], [-1.7527134, 53.8095889], [-1.7503025, 53.8098306], [-1.7495321, 53.8098939], [-1.7485496, 53.8098676], [-1.7477927, 53.8099751], [-1.7484303, 53.8096381], [-1.7488406, 53.8097727], [-1.7493288, 53.8098139], [-1.7497603, 53.8097837], [-1.7496784, 53.8096833], [-1.7494392, 53.8095699]]], &quot;type&quot;: &quot;Polygon&quot;}, &quot;id&quot;: &quot;(\\u0027way\\u0027, 177320970)&quot;, &quot;properties&quot;: {&quot;landuse&quot;: null, &quot;leaf_type&quot;: null, &quot;leisure&quot;: null, &quot;name&quot;: null, &quot;name:pronunciation&quot;: null, &quot;natural&quot;: &quot;wood&quot;, &quot;note&quot;: null, &quot;source&quot;: null, &quot;type&quot;: null, &quot;wikidata&quot;: null, &quot;wikipedia&quot;: null}, &quot;type&quot;: &quot;Feature&quot;}, {&quot;bbox&quot;: [-1.7770683, 53.7898771, -1.7746327, 53.7918518], &quot;geometry&quot;: {&quot;coordinates&quot;: [[[-1.7759577, 53.7917868], [-1.7755473, 53.7918518], [-1.7749894, 53.7907617], [-1.7746327, 53.7900851], [-1.7752213, 53.7898771], [-1.7759616, 53.7904476], [-1.7770683, 53.79158], [-1.7766792, 53.7916474], [-1.7759577, 53.7917868]]], &quot;type&quot;: &quot;Polygon&quot;}, &quot;id&quot;: &quot;(\\u0027way\\u0027, 201378907)&quot;, &quot;properties&quot;: {&quot;landuse&quot;: null, &quot;leaf_type&quot;: null, &quot;leisure&quot;: null, &quot;name&quot;: null, &quot;name:pronunciation&quot;: null, &quot;natural&quot;: &quot;scrub&quot;, &quot;note&quot;: null, &quot;source&quot;: &quot;Bing&quot;, &quot;type&quot;: null, &quot;wikidata&quot;: null, &quot;wikipedia&quot;: null}, &quot;type&quot;: &quot;Feature&quot;}, {&quot;bbox&quot;: [-1.763777, 53.7795413, -1.7613884, 53.7806281], &quot;geometry&quot;: {&quot;coordinates&quot;: [[[-1.763777, 53.7802297], [-1.7636631, 53.7801921], [-1.7634951, 53.7801367], [-1.7631208, 53.7800034], [-1.7629355, 53.7799421], [-1.7624304, 53.779775], [-1.7623516, 53.779749], [-1.7620582, 53.779652], [-1.7619548, 53.7796178], [-1.7617148, 53.7795413], [-1.7616516, 53.7796457], [-1.7615858, 53.7797543], [-1.7613884, 53.7800802], [-1.7614657, 53.7800967], [-1.7624482, 53.7804121], [-1.7629814, 53.7805833], [-1.7630842, 53.7806281], [-1.763777, 53.7802297]]], &quot;type&quot;: &quot;Polygon&quot;}, &quot;id&quot;: &quot;(\\u0027way\\u0027, 322574520)&quot;, &quot;properties&quot;: {&quot;landuse&quot;: null, &quot;leaf_type&quot;: null, &quot;leisure&quot;: &quot;park&quot;, &quot;name&quot;: &quot;Trident Park&quot;, &quot;name:pronunciation&quot;: null, &quot;natural&quot;: null, &quot;note&quot;: null, &quot;source&quot;: null, &quot;type&quot;: null, &quot;wikidata&quot;: null, &quot;wikipedia&quot;: null}, &quot;type&quot;: &quot;Feature&quot;}, {&quot;bbox&quot;: [-1.7759966, 53.8067966, -1.7747731, 53.8072308], &quot;geometry&quot;: {&quot;coordinates&quot;: [[[-1.7747855, 53.8072213], [-1.7748566, 53.8072223], [-1.7754454, 53.8072308], [-1.775617, 53.8071263], [-1.7757724, 53.8070679], [-1.7758898, 53.8070386], [-1.7759966, 53.8070146], [-1.7759784, 53.8069282], [-1.7757887, 53.8067966], [-1.7747731, 53.8068349], [-1.7747855, 53.8072213]]], &quot;type&quot;: &quot;Polygon&quot;}, &quot;id&quot;: &quot;(\\u0027way\\u0027, 542859671)&quot;, &quot;properties&quot;: {&quot;landuse&quot;: null, &quot;leaf_type&quot;: null, &quot;leisure&quot;: &quot;park&quot;, &quot;name&quot;: null, &quot;name:pronunciation&quot;: null, &quot;natural&quot;: null, &quot;note&quot;: null, &quot;source&quot;: null, &quot;type&quot;: null, &quot;wikidata&quot;: null, &quot;wikipedia&quot;: null}, &quot;type&quot;: &quot;Feature&quot;}, {&quot;bbox&quot;: [-1.7671579, 53.7853551, -1.7667676, 53.7859616], &quot;geometry&quot;: {&quot;coordinates&quot;: [[[-1.76704, 53.7858859], [-1.7670237, 53.7859616], [-1.7667676, 53.7859448], [-1.7668794, 53.7853551], [-1.7671579, 53.7853803], [-1.7671416, 53.7854476], [-1.7670501, 53.7854452], [-1.7669485, 53.7858763], [-1.76704, 53.7858859]]], &quot;type&quot;: &quot;Polygon&quot;}, &quot;id&quot;: &quot;(\\u0027way\\u0027, 577458001)&quot;, &quot;properties&quot;: {&quot;landuse&quot;: null, &quot;leaf_type&quot;: null, &quot;leisure&quot;: &quot;park&quot;, &quot;name&quot;: null, &quot;name:pronunciation&quot;: null, &quot;natural&quot;: null, &quot;note&quot;: null, &quot;source&quot;: null, &quot;type&quot;: null, &quot;wikidata&quot;: null, &quot;wikipedia&quot;: null}, &quot;type&quot;: &quot;Feature&quot;}, {&quot;bbox&quot;: [-1.7838487, 53.7868564, -1.7801889, 53.789004], &quot;geometry&quot;: {&quot;coordinates&quot;: [[[-1.7820017, 53.789004], [-1.7838487, 53.7881874], [-1.7824375, 53.7868564], [-1.7801889, 53.7878802], [-1.7812838, 53.7887687], [-1.781516, 53.7886854], [-1.7815933, 53.7886493], [-1.7820017, 53.789004]]], &quot;type&quot;: &quot;Polygon&quot;}, &quot;id&quot;: &quot;(\\u0027way\\u0027, 584424039)&quot;, &quot;properties&quot;: {&quot;landuse&quot;: null, &quot;leaf_type&quot;: null, &quot;leisure&quot;: &quot;park&quot;, &quot;name&quot;: &quot;Spencer Park&quot;, &quot;name:pronunciation&quot;: null, &quot;natural&quot;: null, &quot;note&quot;: null, &quot;source&quot;: null, &quot;type&quot;: null, &quot;wikidata&quot;: null, &quot;wikipedia&quot;: null}, &quot;type&quot;: &quot;Feature&quot;}, {&quot;bbox&quot;: [-1.7326764, 53.800239, -1.730526, 53.8019625], &quot;geometry&quot;: {&quot;coordinates&quot;: [[[-1.7320422, 53.8019409], [-1.7322486, 53.8019625], [-1.7324215, 53.8011498], [-1.7322896, 53.8011431], [-1.7323144, 53.8009824], [-1.7323638, 53.8009846], [-1.732368, 53.8009527], [-1.7324949, 53.8009569], [-1.7326764, 53.8002505], [-1.7307112, 53.800239], [-1.7308672, 53.8003833], [-1.730526, 53.8011523], [-1.7316056, 53.8014095], [-1.7318816, 53.8016025], [-1.7320422, 53.8019409]]], &quot;type&quot;: &quot;Polygon&quot;}, &quot;id&quot;: &quot;(\\u0027way\\u0027, 685311017)&quot;, &quot;properties&quot;: {&quot;landuse&quot;: null, &quot;leaf_type&quot;: null, &quot;leisure&quot;: &quot;park&quot;, &quot;name&quot;: &quot;Beech Grove Park&quot;, &quot;name:pronunciation&quot;: null, &quot;natural&quot;: null, &quot;note&quot;: null, &quot;source&quot;: null, &quot;type&quot;: null, &quot;wikidata&quot;: null, &quot;wikipedia&quot;: null}, &quot;type&quot;: &quot;Feature&quot;}, {&quot;bbox&quot;: [-1.7257784, 53.7941206, -1.7248448, 53.7951198], &quot;geometry&quot;: {&quot;coordinates&quot;: [[[-1.7254888, 53.7951198], [-1.7257784, 53.7942098], [-1.7250282, 53.7941206], [-1.7248448, 53.7946275], [-1.7249219, 53.7946812], [-1.7249111, 53.7947758], [-1.7251098, 53.7948049], [-1.7250359, 53.7950652], [-1.7254888, 53.7951198]]], &quot;type&quot;: &quot;Polygon&quot;}, &quot;id&quot;: &quot;(\\u0027way\\u0027, 685312887)&quot;, &quot;properties&quot;: {&quot;landuse&quot;: null, &quot;leaf_type&quot;: null, &quot;leisure&quot;: &quot;park&quot;, &quot;name&quot;: &quot;Attock Park&quot;, &quot;name:pronunciation&quot;: null, &quot;natural&quot;: null, &quot;note&quot;: null, &quot;source&quot;: null, &quot;type&quot;: null, &quot;wikidata&quot;: null, &quot;wikipedia&quot;: null}, &quot;type&quot;: &quot;Feature&quot;}, {&quot;bbox&quot;: [-1.7247801, 53.7940604, -1.7242923, 53.7944842], &quot;geometry&quot;: {&quot;coordinates&quot;: [[[-1.7246592, 53.7944842], [-1.7247155, 53.7943093], [-1.7247801, 53.794109], [-1.7244884, 53.7940604], [-1.7243919, 53.7942249], [-1.7243289, 53.7943737], [-1.7242923, 53.7944434], [-1.7243151, 53.7944459], [-1.7246592, 53.7944842]]], &quot;type&quot;: &quot;Polygon&quot;}, &quot;id&quot;: &quot;(\\u0027way\\u0027, 685312889)&quot;, &quot;properties&quot;: {&quot;landuse&quot;: null, &quot;leaf_type&quot;: null, &quot;leisure&quot;: &quot;park&quot;, &quot;name&quot;: null, &quot;name:pronunciation&quot;: null, &quot;natural&quot;: null, &quot;note&quot;: null, &quot;source&quot;: null, &quot;type&quot;: null, &quot;wikidata&quot;: null, &quot;wikipedia&quot;: null}, &quot;type&quot;: &quot;Feature&quot;}, {&quot;bbox&quot;: [-1.747884, 53.8084743, -1.7418843, 53.8094286], &quot;geometry&quot;: {&quot;coordinates&quot;: [[[-1.7473198, 53.8087309], [-1.747884, 53.8089605], [-1.746992, 53.809172], [-1.7460543, 53.808938], [-1.746001, 53.809136], [-1.7452005, 53.8094286], [-1.7431041, 53.808965], [-1.7429516, 53.8087894], [-1.7419758, 53.8087039], [-1.7418843, 53.8085508], [-1.7428947, 53.8085289], [-1.7438346, 53.8085084], [-1.7443696, 53.8084968], [-1.745757, 53.8084743], [-1.7473198, 53.8087309]]], &quot;type&quot;: &quot;Polygon&quot;}, &quot;id&quot;: &quot;(\\u0027way\\u0027, 730212832)&quot;, &quot;properties&quot;: {&quot;landuse&quot;: null, &quot;leaf_type&quot;: null, &quot;leisure&quot;: null, &quot;name&quot;: null, &quot;name:pronunciation&quot;: null, &quot;natural&quot;: &quot;wood&quot;, &quot;note&quot;: null, &quot;source&quot;: null, &quot;type&quot;: null, &quot;wikidata&quot;: null, &quot;wikipedia&quot;: null}, &quot;type&quot;: &quot;Feature&quot;}, {&quot;bbox&quot;: [-1.751214, 53.8036443, -1.7501482, 53.8078678], &quot;geometry&quot;: {&quot;coordinates&quot;: [[[-1.7505986, 53.8036443], [-1.7508108, 53.8041248], [-1.7511404, 53.8045852], [-1.751214, 53.8047883], [-1.7511469, 53.8050819], [-1.7510243, 53.805571], [-1.7508047, 53.8059101], [-1.7506494, 53.8062648], [-1.7506078, 53.80653], [-1.7506785, 53.8067869], [-1.7508645, 53.8072982], [-1.7510384, 53.8078604], [-1.7506589, 53.8078678], [-1.7505513, 53.8074331], [-1.7503629, 53.8068599], [-1.7503151, 53.8065801], [-1.7503258, 53.8063352], [-1.750444, 53.8060434], [-1.7506888, 53.8055241], [-1.7508482, 53.8051054], [-1.7509091, 53.8048504], [-1.7508513, 53.8046149], [-1.7506821, 53.80435], [-1.7501482, 53.8037803], [-1.7504854, 53.8036799], [-1.7505986, 53.8036443]]], &quot;type&quot;: &quot;Polygon&quot;}, &quot;id&quot;: &quot;(\\u0027way\\u0027, 730212861)&quot;, &quot;properties&quot;: {&quot;landuse&quot;: null, &quot;leaf_type&quot;: null, &quot;leisure&quot;: &quot;park&quot;, &quot;name&quot;: null, &quot;name:pronunciation&quot;: null, &quot;natural&quot;: null, &quot;note&quot;: null, &quot;source&quot;: null, &quot;type&quot;: null, &quot;wikidata&quot;: null, &quot;wikipedia&quot;: null}, &quot;type&quot;: &quot;Feature&quot;}, {&quot;bbox&quot;: [-1.741628, 53.7920714, -1.740947, 53.79285], &quot;geometry&quot;: {&quot;coordinates&quot;: [[[-1.7414294, 53.79285], [-1.740947, 53.7928196], [-1.7411316, 53.7920801], [-1.7411647, 53.7920714], [-1.7414991, 53.7920996], [-1.741628, 53.7921605], [-1.7414294, 53.79285]]], &quot;type&quot;: &quot;Polygon&quot;}, &quot;id&quot;: &quot;(\\u0027way\\u0027, 739781408)&quot;, &quot;properties&quot;: {&quot;landuse&quot;: null, &quot;leaf_type&quot;: null, &quot;leisure&quot;: &quot;park&quot;, &quot;name&quot;: null, &quot;name:pronunciation&quot;: null, &quot;natural&quot;: null, &quot;note&quot;: null, &quot;source&quot;: null, &quot;type&quot;: null, &quot;wikidata&quot;: null, &quot;wikipedia&quot;: null}, &quot;type&quot;: &quot;Feature&quot;}, {&quot;bbox&quot;: [-1.7622666, 53.8000935, -1.7618176, 53.8002612], &quot;geometry&quot;: {&quot;coordinates&quot;: [[[-1.7618413, 53.8002612], [-1.7622282, 53.8002038], [-1.7622566, 53.8001821], [-1.7622666, 53.8001634], [-1.7622566, 53.8001388], [-1.7622365, 53.8000935], [-1.7621697, 53.8001083], [-1.7621965, 53.8001545], [-1.7618176, 53.800227], [-1.7618413, 53.8002612]]], &quot;type&quot;: &quot;Polygon&quot;}, &quot;id&quot;: &quot;(\\u0027way\\u0027, 854027553)&quot;, &quot;properties&quot;: {&quot;landuse&quot;: null, &quot;leaf_type&quot;: null, &quot;leisure&quot;: null, &quot;name&quot;: null, &quot;name:pronunciation&quot;: null, &quot;natural&quot;: &quot;wood&quot;, &quot;note&quot;: null, &quot;source&quot;: null, &quot;type&quot;: null, &quot;wikidata&quot;: null, &quot;wikipedia&quot;: null}, &quot;type&quot;: &quot;Feature&quot;}, {&quot;bbox&quot;: [-1.7622065, 53.7999555, -1.7617038, 53.8001088], &quot;geometry&quot;: {&quot;coordinates&quot;: [[[-1.7622065, 53.8000442], [-1.7621418, 53.8000603], [-1.7621131, 53.8000107], [-1.7617357, 53.8001088], [-1.7617038, 53.8000628], [-1.7620447, 53.7999604], [-1.7620914, 53.7999555], [-1.7621298, 53.7999575], [-1.7621565, 53.7999673], [-1.7621832, 53.799991], [-1.7622065, 53.8000442]]], &quot;type&quot;: &quot;Polygon&quot;}, &quot;id&quot;: &quot;(\\u0027way\\u0027, 854027554)&quot;, &quot;properties&quot;: {&quot;landuse&quot;: null, &quot;leaf_type&quot;: null, &quot;leisure&quot;: null, &quot;name&quot;: null, &quot;name:pronunciation&quot;: null, &quot;natural&quot;: &quot;wood&quot;, &quot;note&quot;: null, &quot;source&quot;: null, &quot;type&quot;: null, &quot;wikidata&quot;: null, &quot;wikipedia&quot;: null}, &quot;type&quot;: &quot;Feature&quot;}, {&quot;bbox&quot;: [-1.7519512, 53.7887061, -1.7499458, 53.7898167], &quot;geometry&quot;: {&quot;coordinates&quot;: [[[-1.7519354, 53.7891368], [-1.7518849, 53.789102], [-1.7518317, 53.7890883], [-1.7517724, 53.7890833], [-1.7517277, 53.789092], [-1.7517, 53.7891092], [-1.7516619, 53.7891539], [-1.7516376, 53.7891825], [-1.7516307, 53.7892266], [-1.7516199, 53.7892699], [-1.7515906, 53.7893117], [-1.7515483, 53.78936], [-1.7515021, 53.7893964], [-1.7512956, 53.7894978], [-1.7507118, 53.7896529], [-1.7506103, 53.7895016], [-1.7505448, 53.7895173], [-1.7504802, 53.7894582], [-1.7503563, 53.7892225], [-1.7503952, 53.7892147], [-1.7501794, 53.7888007], [-1.7501838, 53.7887923], [-1.7501395, 53.7887061], [-1.7499891, 53.7887317], [-1.750044, 53.7888242], [-1.7499458, 53.7888462], [-1.750145, 53.7891821], [-1.750431, 53.7896849], [-1.7504801, 53.7897415], [-1.7505524, 53.7897856], [-1.7506318, 53.7898167], [-1.7507252, 53.7898077], [-1.7509599, 53.7897229], [-1.7511771, 53.789618], [-1.7514211, 53.7894787], [-1.7515782, 53.789398], [-1.7517115, 53.7893349], [-1.7518468, 53.7892921], [-1.7519132, 53.7892565], [-1.7519468, 53.7892314], [-1.7519512, 53.7891922], [-1.7519354, 53.7891368]]], &quot;type&quot;: &quot;Polygon&quot;}, &quot;id&quot;: &quot;(\\u0027way\\u0027, 871957179)&quot;, &quot;properties&quot;: {&quot;landuse&quot;: null, &quot;leaf_type&quot;: &quot;mixed&quot;, &quot;leisure&quot;: null, &quot;name&quot;: null, &quot;name:pronunciation&quot;: null, &quot;natural&quot;: &quot;wood&quot;, &quot;note&quot;: null, &quot;source&quot;: null, &quot;type&quot;: null, &quot;wikidata&quot;: null, &quot;wikipedia&quot;: null}, &quot;type&quot;: &quot;Feature&quot;}, {&quot;bbox&quot;: [-1.7583355, 53.7824975, -1.7568978, 53.7833839], &quot;geometry&quot;: {&quot;coordinates&quot;: [[[-1.7583355, 53.7828084], [-1.7581853, 53.7829843], [-1.7577341, 53.7833835], [-1.7574781, 53.7833687], [-1.7570974, 53.7833839], [-1.7570204, 53.7833756], [-1.7569737, 53.7833432], [-1.7569889, 53.7833018], [-1.7569433, 53.7832839], [-1.7568978, 53.7832535], [-1.7569352, 53.7832253], [-1.7572189, 53.7830004], [-1.7573776, 53.7830562], [-1.7579707, 53.7826003], [-1.7579988, 53.7825623], [-1.7580034, 53.7825299], [-1.7580618, 53.7824975], [-1.7583233, 53.782623], [-1.7581809, 53.7827327], [-1.7583355, 53.7828084]]], &quot;type&quot;: &quot;Polygon&quot;}, &quot;id&quot;: &quot;(\\u0027way\\u0027, 871957195)&quot;, &quot;properties&quot;: {&quot;landuse&quot;: null, &quot;leaf_type&quot;: null, &quot;leisure&quot;: null, &quot;name&quot;: null, &quot;name:pronunciation&quot;: null, &quot;natural&quot;: &quot;scrub&quot;, &quot;note&quot;: null, &quot;source&quot;: null, &quot;type&quot;: null, &quot;wikidata&quot;: null, &quot;wikipedia&quot;: null}, &quot;type&quot;: &quot;Feature&quot;}, {&quot;bbox&quot;: [-1.756914, 53.7862669, -1.7533991, 53.7880832], &quot;geometry&quot;: {&quot;coordinates&quot;: [[[-1.7543105, 53.7874979], [-1.7551206, 53.7874345], [-1.7558403, 53.7874638], [-1.7558869, 53.787418], [-1.7559236, 53.7873819], [-1.7559458, 53.7873602], [-1.756914, 53.7863616], [-1.7569073, 53.7862921], [-1.7568341, 53.7862669], [-1.7536165, 53.7868298], [-1.7535091, 53.7868918], [-1.753446, 53.7870712], [-1.7534681, 53.7872364], [-1.7534628, 53.7873514], [-1.7534044, 53.7875187], [-1.7533991, 53.7875615], [-1.7535088, 53.7880299], [-1.7535991, 53.7880832], [-1.7544932, 53.7879695], [-1.7543525, 53.7876695], [-1.7543105, 53.7874979]]], &quot;type&quot;: &quot;Polygon&quot;}, &quot;id&quot;: &quot;(\\u0027way\\u0027, 871957226)&quot;, &quot;properties&quot;: {&quot;landuse&quot;: null, &quot;leaf_type&quot;: null, &quot;leisure&quot;: null, &quot;name&quot;: null, &quot;name:pronunciation&quot;: null, &quot;natural&quot;: &quot;scrub&quot;, &quot;note&quot;: null, &quot;source&quot;: null, &quot;type&quot;: null, &quot;wikidata&quot;: null, &quot;wikipedia&quot;: null}, &quot;type&quot;: &quot;Feature&quot;}, {&quot;bbox&quot;: [-1.7764242, 53.8054596, -1.7758542, 53.8057843], &quot;geometry&quot;: {&quot;coordinates&quot;: [[[-1.7762994, 53.8054596], [-1.7758542, 53.8055475], [-1.7759588, 53.8057843], [-1.7764242, 53.8056814], [-1.7762994, 53.8054596]]], &quot;type&quot;: &quot;Polygon&quot;}, &quot;id&quot;: &quot;(\\u0027way\\u0027, 882984895)&quot;, &quot;properties&quot;: {&quot;landuse&quot;: null, &quot;leaf_type&quot;: null, &quot;leisure&quot;: &quot;park&quot;, &quot;name&quot;: null, &quot;name:pronunciation&quot;: null, &quot;natural&quot;: null, &quot;note&quot;: null, &quot;source&quot;: null, &quot;type&quot;: null, &quot;wikidata&quot;: null, &quot;wikipedia&quot;: null}, &quot;type&quot;: &quot;Feature&quot;}, {&quot;bbox&quot;: [-1.745496, 53.7889429, -1.7441922, 53.7901882], &quot;geometry&quot;: {&quot;coordinates&quot;: [[[-1.7444114, 53.7901882], [-1.7453019, 53.7901375], [-1.7454307, 53.79009], [-1.7454927, 53.7900332], [-1.745496, 53.7899726], [-1.7454005, 53.789805], [-1.7445728, 53.7890717], [-1.7441922, 53.7889429], [-1.744229, 53.7890822], [-1.7444222, 53.7892027], [-1.7446528, 53.7894308], [-1.7444114, 53.7901882]]], &quot;type&quot;: &quot;Polygon&quot;}, &quot;id&quot;: &quot;(\\u0027way\\u0027, 902839688)&quot;, &quot;properties&quot;: {&quot;landuse&quot;: null, &quot;leaf_type&quot;: null, &quot;leisure&quot;: null, &quot;name&quot;: null, &quot;name:pronunciation&quot;: null, &quot;natural&quot;: &quot;wood&quot;, &quot;note&quot;: null, &quot;source&quot;: null, &quot;type&quot;: null, &quot;wikidata&quot;: null, &quot;wikipedia&quot;: null}, &quot;type&quot;: &quot;Feature&quot;}, {&quot;bbox&quot;: [-1.7262891, 53.7773217, -1.7254163, 53.7778178], &quot;geometry&quot;: {&quot;coordinates&quot;: [[[-1.7254163, 53.7774682], [-1.7258289, 53.7773282], [-1.7258716, 53.7773751], [-1.7260777, 53.7773217], [-1.7260905, 53.7773355], [-1.7260391, 53.777362], [-1.7260437, 53.7773955], [-1.726225, 53.777591], [-1.7262891, 53.7776458], [-1.7257306, 53.7778178], [-1.7255837, 53.7776493], [-1.7254163, 53.7774682]]], &quot;type&quot;: &quot;Polygon&quot;}, &quot;id&quot;: &quot;(\\u0027way\\u0027, 956357803)&quot;, &quot;properties&quot;: {&quot;landuse&quot;: null, &quot;leaf_type&quot;: null, &quot;leisure&quot;: &quot;park&quot;, &quot;name&quot;: null, &quot;name:pronunciation&quot;: null, &quot;natural&quot;: null, &quot;note&quot;: null, &quot;source&quot;: null, &quot;type&quot;: null, &quot;wikidata&quot;: null, &quot;wikipedia&quot;: null}, &quot;type&quot;: &quot;Feature&quot;}, {&quot;bbox&quot;: [-1.7519114, 53.8045852, -1.7504911, 53.8094566], &quot;geometry&quot;: {&quot;coordinates&quot;: [[[-1.7504911, 53.8094566], [-1.7507754, 53.8093638], [-1.7510481, 53.8092262], [-1.7513408, 53.8090131], [-1.7514743, 53.8088705], [-1.7515169, 53.8087799], [-1.7515226, 53.8086675], [-1.7514772, 53.8082565], [-1.7507839, 53.8082313], [-1.7506589, 53.8078678], [-1.7510384, 53.8078604], [-1.7508645, 53.8072982], [-1.7506785, 53.8067869], [-1.7506078, 53.80653], [-1.7506494, 53.8062648], [-1.7508047, 53.8059101], [-1.7510243, 53.805571], [-1.7511469, 53.8050819], [-1.751214, 53.8047883], [-1.7511404, 53.8045852], [-1.7514259, 53.8045858], [-1.7514507, 53.8049765], [-1.7514563, 53.8052451], [-1.7513709, 53.8056394], [-1.7510051, 53.8061381], [-1.7508594, 53.8064681], [-1.7509312, 53.8067854], [-1.7511071, 53.8071259], [-1.7514779, 53.8073685], [-1.7517808, 53.8076697], [-1.7519114, 53.8081823], [-1.7518433, 53.8088734], [-1.7515389, 53.8092517], [-1.7509837, 53.8094449], [-1.7504911, 53.8094566]]], &quot;type&quot;: &quot;Polygon&quot;}, &quot;id&quot;: &quot;(\\u0027way\\u0027, 1210508792)&quot;, &quot;properties&quot;: {&quot;landuse&quot;: null, &quot;leaf_type&quot;: null, &quot;leisure&quot;: null, &quot;name&quot;: null, &quot;name:pronunciation&quot;: null, &quot;natural&quot;: &quot;scrub&quot;, &quot;note&quot;: null, &quot;source&quot;: null, &quot;type&quot;: null, &quot;wikidata&quot;: null, &quot;wikipedia&quot;: null}, &quot;type&quot;: &quot;Feature&quot;}, {&quot;bbox&quot;: [-1.7485756, 53.7987001, -1.7458812, 53.8016385], &quot;geometry&quot;: {&quot;coordinates&quot;: [[[-1.7458812, 53.7987001], [-1.7461137, 53.7990336], [-1.7463499, 53.7994652], [-1.7468519, 53.8004375], [-1.7469848, 53.8006206], [-1.7474757, 53.8011742], [-1.7476565, 53.8011154], [-1.7477303, 53.8011851], [-1.7478263, 53.8011503], [-1.7481511, 53.8014467], [-1.7485054, 53.8016342], [-1.7485756, 53.8016385], [-1.74814, 53.8008843], [-1.7479075, 53.8005639], [-1.7474978, 53.8000887], [-1.7468519, 53.7994696], [-1.7458812, 53.7987001]]], &quot;type&quot;: &quot;Polygon&quot;}, &quot;id&quot;: &quot;(\\u0027way\\u0027, 1210508806)&quot;, &quot;properties&quot;: {&quot;landuse&quot;: null, &quot;leaf_type&quot;: null, &quot;leisure&quot;: null, &quot;name&quot;: null, &quot;name:pronunciation&quot;: null, &quot;natural&quot;: &quot;wood&quot;, &quot;note&quot;: null, &quot;source&quot;: null, &quot;type&quot;: null, &quot;wikidata&quot;: null, &quot;wikipedia&quot;: null}, &quot;type&quot;: &quot;Feature&quot;}, {&quot;bbox&quot;: [-1.7475557, 53.7975795, -1.7454199, 53.7994604], &quot;geometry&quot;: {&quot;coordinates&quot;: [[[-1.7475277, 53.7991349], [-1.7475557, 53.7993986], [-1.7475455, 53.7994393], [-1.7474664, 53.7994604], [-1.7473822, 53.7994468], [-1.7468897, 53.7991032], [-1.7463411, 53.7986586], [-1.7455679, 53.7979925], [-1.7454199, 53.7978824], [-1.7454352, 53.7977362], [-1.7455526, 53.7976895], [-1.7459456, 53.7975795], [-1.7459864, 53.797587], [-1.746114, 53.797783], [-1.7459481, 53.7978628], [-1.7459941, 53.7979081], [-1.7460604, 53.7980286], [-1.7461395, 53.7982035], [-1.7463539, 53.7984476], [-1.7465759, 53.7986044], [-1.7468821, 53.7988289], [-1.7470199, 53.79885], [-1.7472138, 53.7990655], [-1.747349, 53.7991123], [-1.7475277, 53.7991349]]], &quot;type&quot;: &quot;Polygon&quot;}, &quot;id&quot;: &quot;(\\u0027way\\u0027, 1213436588)&quot;, &quot;properties&quot;: {&quot;landuse&quot;: null, &quot;leaf_type&quot;: null, &quot;leisure&quot;: null, &quot;name&quot;: null, &quot;name:pronunciation&quot;: null, &quot;natural&quot;: &quot;wood&quot;, &quot;note&quot;: null, &quot;source&quot;: null, &quot;type&quot;: null, &quot;wikidata&quot;: null, &quot;wikipedia&quot;: null}, &quot;type&quot;: &quot;Feature&quot;}, {&quot;bbox&quot;: [-1.7481631, 53.7981854, -1.7477267, 53.7999035], &quot;geometry&quot;: {&quot;coordinates&quot;: [[[-1.7478849, 53.798309], [-1.7478288, 53.7981854], [-1.7477982, 53.7981869], [-1.7477548, 53.798315], [-1.7477267, 53.7985757], [-1.7477267, 53.7994227], [-1.7477726, 53.799703], [-1.7481299, 53.7999035], [-1.7481631, 53.7998794], [-1.748158, 53.7998236], [-1.7478313, 53.799382], [-1.7478364, 53.7985531], [-1.7479257, 53.7984356], [-1.7478849, 53.798309]]], &quot;type&quot;: &quot;Polygon&quot;}, &quot;id&quot;: &quot;(\\u0027way\\u0027, 1213436589)&quot;, &quot;properties&quot;: {&quot;landuse&quot;: null, &quot;leaf_type&quot;: null, &quot;leisure&quot;: null, &quot;name&quot;: null, &quot;name:pronunciation&quot;: null, &quot;natural&quot;: &quot;wood&quot;, &quot;note&quot;: null, &quot;source&quot;: null, &quot;type&quot;: null, &quot;wikidata&quot;: null, &quot;wikipedia&quot;: null}, &quot;type&quot;: &quot;Feature&quot;}, {&quot;bbox&quot;: [-1.7571921, 53.8116276, -1.7552997, 53.814082], &quot;geometry&quot;: {&quot;coordinates&quot;: [[[-1.7565535, 53.8119611], [-1.7568721, 53.8122013], [-1.7571185, 53.8122615], [-1.75711, 53.8123785], [-1.757076, 53.8126794], [-1.7571921, 53.8127296], [-1.7571298, 53.8132545], [-1.7569542, 53.8133314], [-1.7568382, 53.8134868], [-1.7564842, 53.8137426], [-1.7560652, 53.8139532], [-1.7555754, 53.814082], [-1.7561275, 53.813542], [-1.7563115, 53.813313], [-1.7563389, 53.8131124], [-1.7562548, 53.8130168], [-1.7564567, 53.8129242], [-1.7556971, 53.8123074], [-1.7556106, 53.812249], [-1.7554894, 53.8123094], [-1.7553538, 53.8121561], [-1.7552997, 53.8118862], [-1.7555555, 53.8118753], [-1.7558274, 53.8118452], [-1.7559007, 53.8117333], [-1.756144, 53.8116276], [-1.7565535, 53.8119611]]], &quot;type&quot;: &quot;Polygon&quot;}, &quot;id&quot;: &quot;(\\u0027way\\u0027, 1213436609)&quot;, &quot;properties&quot;: {&quot;landuse&quot;: null, &quot;leaf_type&quot;: null, &quot;leisure&quot;: null, &quot;name&quot;: &quot;Brow Wood&quot;, &quot;name:pronunciation&quot;: null, &quot;natural&quot;: &quot;wood&quot;, &quot;note&quot;: null, &quot;source&quot;: null, &quot;type&quot;: null, &quot;wikidata&quot;: null, &quot;wikipedia&quot;: null}, &quot;type&quot;: &quot;Feature&quot;}, {&quot;bbox&quot;: [-1.7559558, 53.8109979, -1.7548726, 53.8118862], &quot;geometry&quot;: {&quot;coordinates&quot;: [[[-1.7552997, 53.8118862], [-1.7552584, 53.8116804], [-1.7548726, 53.8110708], [-1.7552119, 53.8109979], [-1.7559558, 53.8115129], [-1.7557807, 53.8116369], [-1.7559007, 53.8117333], [-1.7558274, 53.8118452], [-1.7555555, 53.8118753], [-1.7552997, 53.8118862]]], &quot;type&quot;: &quot;Polygon&quot;}, &quot;id&quot;: &quot;(\\u0027way\\u0027, 1213436610)&quot;, &quot;properties&quot;: {&quot;landuse&quot;: null, &quot;leaf_type&quot;: null, &quot;leisure&quot;: null, &quot;name&quot;: null, &quot;name:pronunciation&quot;: null, &quot;natural&quot;: &quot;scrub&quot;, &quot;note&quot;: null, &quot;source&quot;: null, &quot;type&quot;: null, &quot;wikidata&quot;: null, &quot;wikipedia&quot;: null}, &quot;type&quot;: &quot;Feature&quot;}, {&quot;bbox&quot;: [-1.7528527, 53.7912198, -1.7498157, 53.7920332], &quot;geometry&quot;: {&quot;coordinates&quot;: [[[-1.7528527, 53.7914936], [-1.752297, 53.7912198], [-1.7505466, 53.791497], [-1.750343, 53.7915869], [-1.7500126, 53.7914572], [-1.7498157, 53.7915869], [-1.7506421, 53.7920332], [-1.7510438, 53.7916883], [-1.7513237, 53.7914874], [-1.7522648, 53.7919151], [-1.7528527, 53.7914936]]], &quot;type&quot;: &quot;Polygon&quot;}, &quot;id&quot;: &quot;(\\u0027way\\u0027, 1274476262)&quot;, &quot;properties&quot;: {&quot;landuse&quot;: null, &quot;leaf_type&quot;: null, &quot;leisure&quot;: &quot;park&quot;, &quot;name&quot;: null, &quot;name:pronunciation&quot;: null, &quot;natural&quot;: null, &quot;note&quot;: null, &quot;source&quot;: null, &quot;type&quot;: null, &quot;wikidata&quot;: null, &quot;wikipedia&quot;: null}, &quot;type&quot;: &quot;Feature&quot;}, {&quot;bbox&quot;: [-1.728831, 53.7878183, -1.7243341, 53.7896066], &quot;geometry&quot;: {&quot;coordinates&quot;: [[[-1.7276544, 53.7878183], [-1.7271047, 53.787962], [-1.7273051, 53.7886504], [-1.7270188, 53.7887012], [-1.7264205, 53.7887401], [-1.7259853, 53.7888145], [-1.7250262, 53.788899], [-1.7249661, 53.7890242], [-1.724737, 53.7891037], [-1.7244966, 53.7891324], [-1.7243341, 53.7891259], [-1.7244995, 53.7896066], [-1.7258307, 53.7894149], [-1.7261342, 53.7893625], [-1.7265722, 53.7891815], [-1.7271591, 53.7890597], [-1.728831, 53.788757], [-1.7283243, 53.788527], [-1.727872, 53.7881616], [-1.7277632, 53.788028], [-1.7276544, 53.7878183]]], &quot;type&quot;: &quot;Polygon&quot;}, &quot;id&quot;: &quot;(\\u0027way\\u0027, 1297153610)&quot;, &quot;properties&quot;: {&quot;landuse&quot;: null, &quot;leaf_type&quot;: null, &quot;leisure&quot;: null, &quot;name&quot;: null, &quot;name:pronunciation&quot;: null, &quot;natural&quot;: &quot;scrub&quot;, &quot;note&quot;: null, &quot;source&quot;: null, &quot;type&quot;: null, &quot;wikidata&quot;: null, &quot;wikipedia&quot;: null}, &quot;type&quot;: &quot;Feature&quot;}, {&quot;bbox&quot;: [-1.7601126, 53.7991708, -1.7549487, 53.8085759], &quot;geometry&quot;: {&quot;coordinates&quot;: [[[-1.7549487, 53.7992818], [-1.7552753, 53.7991708], [-1.7554201, 53.7991708], [-1.7555249, 53.7992054], [-1.7555649, 53.7992946], [-1.7555896, 53.7994747], [-1.7556604, 53.7998369], [-1.7557498, 53.8001844], [-1.7559685, 53.8006084], [-1.7562551, 53.8011252], [-1.7567468, 53.8020626], [-1.7566335, 53.8020877], [-1.7566796, 53.8023845], [-1.7568671, 53.8029948], [-1.7574157, 53.804276], [-1.7578723, 53.804184], [-1.7579089, 53.8042546], [-1.7573765, 53.8043704], [-1.7576287, 53.8047896], [-1.7581354, 53.8053039], [-1.7584343, 53.8056597], [-1.7591371, 53.806658], [-1.7592655, 53.8068165], [-1.759429, 53.8068841], [-1.7596438, 53.8068813], [-1.7597203, 53.8069807], [-1.759571, 53.8070457], [-1.7595, 53.8071252], [-1.7594902, 53.8072178], [-1.7597301, 53.8077222], [-1.7600459, 53.8082498], [-1.7601126, 53.8084395], [-1.7600602, 53.8085195], [-1.7598815, 53.8085759], [-1.7591913, 53.8072296], [-1.7587446, 53.8065219], [-1.7582454, 53.8058378], [-1.7575553, 53.8048771], [-1.7572503, 53.8043968], [-1.7570377, 53.8039637], [-1.7567604, 53.8032668], [-1.7565909, 53.80269], [-1.7564307, 53.8020896], [-1.7562982, 53.8015983], [-1.7561288, 53.8011416], [-1.7558515, 53.8006284], [-1.7555865, 53.8002135], [-1.7552815, 53.7998241], [-1.7549487, 53.7992818]]], &quot;type&quot;: &quot;Polygon&quot;}, &quot;id&quot;: &quot;(\\u0027way\\u0027, 1322469252)&quot;, &quot;properties&quot;: {&quot;landuse&quot;: null, &quot;leaf_type&quot;: null, &quot;leisure&quot;: null, &quot;name&quot;: null, &quot;name:pronunciation&quot;: null, &quot;natural&quot;: &quot;scrub&quot;, &quot;note&quot;: null, &quot;source&quot;: null, &quot;type&quot;: null, &quot;wikidata&quot;: null, &quot;wikipedia&quot;: null}, &quot;type&quot;: &quot;Feature&quot;}, {&quot;bbox&quot;: [-1.7551505, 53.7968196, -1.753003, 53.7991], &quot;geometry&quot;: {&quot;coordinates&quot;: [[[-1.7530872, 53.7970147], [-1.7539074, 53.7980324], [-1.7547512, 53.7991], [-1.7551505, 53.7989663], [-1.7542398, 53.7982533], [-1.7543215, 53.798194], [-1.7541978, 53.7981098], [-1.7538063, 53.7974571], [-1.753776, 53.7973178], [-1.7530286, 53.7968196], [-1.753003, 53.7968267], [-1.7531421, 53.7969993], [-1.7530872, 53.7970147]]], &quot;type&quot;: &quot;Polygon&quot;}, &quot;id&quot;: &quot;(\\u0027way\\u0027, 1322844057)&quot;, &quot;properties&quot;: {&quot;landuse&quot;: null, &quot;leaf_type&quot;: null, &quot;leisure&quot;: null, &quot;name&quot;: null, &quot;name:pronunciation&quot;: null, &quot;natural&quot;: &quot;scrub&quot;, &quot;note&quot;: null, &quot;source&quot;: null, &quot;type&quot;: null, &quot;wikidata&quot;: null, &quot;wikipedia&quot;: null}, &quot;type&quot;: &quot;Feature&quot;}, {&quot;bbox&quot;: [-1.748722, 53.787099, -1.7481989, 53.7874833], &quot;geometry&quot;: {&quot;coordinates&quot;: [[[-1.7486678, 53.7874609], [-1.748722, 53.787099], [-1.7481989, 53.7871519], [-1.7483127, 53.7874833], [-1.7486678, 53.7874609]]], &quot;type&quot;: &quot;Polygon&quot;}, &quot;id&quot;: &quot;(\\u0027way\\u0027, 1322905095)&quot;, &quot;properties&quot;: {&quot;landuse&quot;: null, &quot;leaf_type&quot;: null, &quot;leisure&quot;: null, &quot;name&quot;: null, &quot;name:pronunciation&quot;: null, &quot;natural&quot;: &quot;scrub&quot;, &quot;note&quot;: null, &quot;source&quot;: null, &quot;type&quot;: null, &quot;wikidata&quot;: null, &quot;wikipedia&quot;: null}, &quot;type&quot;: &quot;Feature&quot;}, {&quot;bbox&quot;: [-1.766638, 53.7850727, -1.764276, 53.7856908], &quot;geometry&quot;: {&quot;coordinates&quot;: [[[-1.7665718, 53.7856908], [-1.766638, 53.7851938], [-1.7662402, 53.7851207], [-1.7661759, 53.7852981], [-1.7647607, 53.7851994], [-1.7647328, 53.7850953], [-1.7644872, 53.7850727], [-1.764276, 53.7856573], [-1.7665718, 53.7856908]]], &quot;type&quot;: &quot;Polygon&quot;}, &quot;id&quot;: &quot;(\\u0027way\\u0027, 1322907185)&quot;, &quot;properties&quot;: {&quot;landuse&quot;: &quot;meadow&quot;, &quot;leaf_type&quot;: null, &quot;leisure&quot;: null, &quot;name&quot;: null, &quot;name:pronunciation&quot;: null, &quot;natural&quot;: null, &quot;note&quot;: null, &quot;source&quot;: null, &quot;type&quot;: null, &quot;wikidata&quot;: null, &quot;wikipedia&quot;: null}, &quot;type&quot;: &quot;Feature&quot;}], &quot;type&quot;: &quot;FeatureCollection&quot;});\n",
       "\n",
       "        \n",
       "    \n",
       "    geo_json_8a43d9934295a671b2ff960bd1c09468.bindTooltip(\n",
       "    function(layer){\n",
       "    let div = L.DomUtil.create(&#x27;div&#x27;);\n",
       "    \n",
       "    let handleObject = feature =&gt; {\n",
       "        if (feature === null) {\n",
       "            return &#x27;&#x27;;\n",
       "        } else if (typeof(feature)==&#x27;object&#x27;) {\n",
       "            return JSON.stringify(feature);\n",
       "        } else {\n",
       "            return feature;\n",
       "        }\n",
       "    }\n",
       "    let fields = [&quot;natural&quot;, &quot;leisure&quot;, &quot;name&quot;, &quot;name:pronunciation&quot;, &quot;wikidata&quot;, &quot;wikipedia&quot;, &quot;source&quot;, &quot;note&quot;, &quot;leaf_type&quot;, &quot;landuse&quot;, &quot;type&quot;];\n",
       "    let aliases = [&quot;natural&quot;, &quot;leisure&quot;, &quot;name&quot;, &quot;name:pronunciation&quot;, &quot;wikidata&quot;, &quot;wikipedia&quot;, &quot;source&quot;, &quot;note&quot;, &quot;leaf_type&quot;, &quot;landuse&quot;, &quot;type&quot;];\n",
       "    let table = &#x27;&lt;table&gt;&#x27; +\n",
       "        String(\n",
       "        fields.map(\n",
       "        (v,i)=&gt;\n",
       "        `&lt;tr&gt;\n",
       "            &lt;th&gt;${aliases[i]}&lt;/th&gt;\n",
       "            \n",
       "            &lt;td&gt;${handleObject(layer.feature.properties[v])}&lt;/td&gt;\n",
       "        &lt;/tr&gt;`).join(&#x27;&#x27;))\n",
       "    +&#x27;&lt;/table&gt;&#x27;;\n",
       "    div.innerHTML=table;\n",
       "    \n",
       "    return div\n",
       "    }\n",
       "    ,{\n",
       "  &quot;sticky&quot;: true,\n",
       "  &quot;className&quot;: &quot;foliumtooltip&quot;,\n",
       "});\n",
       "                     \n",
       "    \n",
       "            geo_json_8a43d9934295a671b2ff960bd1c09468.addTo(map_a144a6a094b8351a1d4ae4f278a24975);\n",
       "        \n",
       "&lt;/script&gt;\n",
       "&lt;/html&gt;\" style=\"position:absolute;width:100%;height:100%;left:0;top:0;border:none !important;\" allowfullscreen webkitallowfullscreen mozallowfullscreen></iframe></div></div>"
      ],
      "text/plain": [
       "<folium.folium.Map at 0x7d280c8b5940>"
      ]
     },
     "execution_count": 26,
     "metadata": {},
     "output_type": "execute_result"
    }
   ],
   "source": [
    "parks.explore()\n",
    "\n",
    "# ok, so that works"
   ]
  },
  {
   "cell_type": "code",
   "execution_count": 27,
   "id": "45c98b4d",
   "metadata": {},
   "outputs": [
    {
     "data": {
      "text/plain": [
       "Index(['geometry', 'natural', 'leisure', 'name', 'name:pronunciation',\n",
       "       'wikidata', 'wikipedia', 'source', 'note', 'leaf_type', 'landuse',\n",
       "       'type'],\n",
       "      dtype='object')"
      ]
     },
     "execution_count": 27,
     "metadata": {},
     "output_type": "execute_result"
    }
   ],
   "source": [
    "parks.columns"
   ]
  },
  {
   "cell_type": "code",
   "execution_count": 30,
   "id": "79c53ff6",
   "metadata": {},
   "outputs": [],
   "source": [
    "parks_subset = parks[['name', 'geometry']].copy()\n",
    "\n",
    "parks_subset['Type (OSM)'] = parks[['natural', 'leisure', 'landuse']].apply(lambda x: ', '.join(sorted(x.dropna().astype(str))),axis=1)"
   ]
  },
  {
   "cell_type": "code",
   "execution_count": null,
   "id": "999c4ba8",
   "metadata": {},
   "outputs": [],
   "source": []
  }
 ],
 "metadata": {
  "kernelspec": {
   "display_name": "park-safety-env",
   "language": "python",
   "name": "python3"
  },
  "language_info": {
   "codemirror_mode": {
    "name": "ipython",
    "version": 3
   },
   "file_extension": ".py",
   "mimetype": "text/x-python",
   "name": "python",
   "nbconvert_exporter": "python",
   "pygments_lexer": "ipython3",
   "version": "3.13.5"
  }
 },
 "nbformat": 4,
 "nbformat_minor": 5
}
