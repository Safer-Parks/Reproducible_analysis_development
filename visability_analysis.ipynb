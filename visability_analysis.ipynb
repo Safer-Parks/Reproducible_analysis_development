{
 "cells": [
  {
   "cell_type": "code",
   "execution_count": 2,
   "metadata": {},
   "outputs": [],
   "source": [
    "import rasterio\n",
    "from rasterio.plot import show\n",
    "import matplotlib.pyplot as plt\n",
    "import numpy as np\n",
    "import math\n",
    "import geopandas as gpd\n",
    "import fiona\n",
    "\n",
    "import os\n",
    "from rasterio.merge import merge, copy_count\n",
    "from rasterio.mask import mask\n"
   ]
  },
  {
   "cell_type": "markdown",
   "metadata": {},
   "source": [
    "Step-by-Step: Download LIDAR DTM GeoTIFF\n",
    "Go to the official dataset page:\n",
    "👉 LIDAR Composite DTM - 1m (Environment Agency) 1\n",
    "\n",
    "Scroll to “Download the survey data” section.\n",
    "\n",
    "https://environment.data.gov.uk/survey \n",
    "\n",
    "Choose your area of interest:\n",
    "\n",
    "You can either:\n",
    "Use the interactive map to select tiles, or\n",
    "Download by OS National Grid tile name (e.g., SJ84 for Newcastle-under-Lyme).\n",
    "Download the GeoTIFF file:\n",
    "\n",
    "Each tile is a 5km x 5km raster file in .tif format.\n",
    "The data is in metres, referenced to OS Newlyn using OSTN’15."
   ]
  },
  {
   "cell_type": "code",
   "execution_count": null,
   "metadata": {},
   "outputs": [],
   "source": [
    "#DTM =gpd.read_file('/Users/fran/Downloads/LIDAR_DTM_Time_Stamped_Extents.json')"
   ]
  },
  {
   "cell_type": "markdown",
   "metadata": {},
   "source": [
    "https://spatial-dev.guru/2023/12/10/line-of-sight-analysis-in-digital-elevation-models-using-python/"
   ]
  },
  {
   "cell_type": "code",
   "execution_count": null,
   "metadata": {},
   "outputs": [],
   "source": [
    "# # Replace this with the path to your DEM file\n",
    "# # Load the DEM data\n",
    "# dem_data = rasterio.open('/Users/fran/Downloads/lidar_composite_dtm-2022-1-SE02ne/SE02ne_DTM_1m.tif')\n",
    "# dem_array = dem_data.read(1)\n",
    "# transform = dem_data.transform"
   ]
  },
  {
   "cell_type": "code",
   "execution_count": null,
   "metadata": {},
   "outputs": [],
   "source": [
    " \n",
    "# # Plot DEM data\n",
    "# plt.imshow(dem_array, cmap='gray')\n",
    "# plt.colorbar()\n",
    "# plt.title('Digital Elevation Model')\n",
    "# plt.show()"
   ]
  },
  {
   "cell_type": "code",
   "execution_count": null,
   "metadata": {},
   "outputs": [],
   "source": [
    "# read in osm highways data\n",
    "osm= gpd.read_file('/Users/fran/Downloads/OSM_highway.geojson')"
   ]
  },
  {
   "cell_type": "code",
   "execution_count": null,
   "metadata": {},
   "outputs": [],
   "source": [
    "osm.plot()"
   ]
  },
  {
   "cell_type": "markdown",
   "metadata": {},
   "source": [
    "https://osdatahub.os.uk/downloads/open/OpenGreenspace"
   ]
  },
  {
   "cell_type": "code",
   "execution_count": 4,
   "metadata": {},
   "outputs": [
    {
     "name": "stdout",
     "output_type": "stream",
     "text": [
      "['access_point', 'greenspace_site']\n"
     ]
    }
   ],
   "source": [
    "# read in open greenspace data (Ordanace Survey)\n",
    "# check available layers\n",
    "# layers = fiona.listlayers('/Users/fran/Downloads/opgrsp_gpkg_gb/Data/opgrsp_gb.gpkg')\n",
    "layers = fiona.listlayers('/mnt/c/Users/earmmu/Downloads/opgrsp_gpkg_gb/Data/opgrsp_gb.gpkg')\n",
    "\n",
    "print(layers)\n",
    "\n",
    "# read in layers (whole of UK)\n",
    "# os_gs_access =gpd.read_file('/Users/fran/Downloads/opgrsp_gpkg_gb/Data/opgrsp_gb.gpkg', layer='access_point')\n",
    "os_gs_access =gpd.read_file('/mnt/c/Users/earmmu/Downloads/opgrsp_gpkg_gb/Data/opgrsp_gb.gpkg', layer='access_point')\n",
    "# os_gs_site =gpd.read_file('/Users/fran/Downloads/opgrsp_gpkg_gb/Data/opgrsp_gb.gpkg', layer='greenspace_site')\n",
    "os_gs_site =gpd.read_file('/mnt/c/Users/earmmu/Downloads/opgrsp_gpkg_gb/Data/opgrsp_gb.gpkg', layer='greenspace_site')"
   ]
  },
  {
   "cell_type": "code",
   "execution_count": 5,
   "metadata": {},
   "outputs": [
    {
     "ename": "NameError",
     "evalue": "name 'osm' is not defined",
     "output_type": "error",
     "traceback": [
      "\u001b[31m---------------------------------------------------------------------------\u001b[39m",
      "\u001b[31mNameError\u001b[39m                                 Traceback (most recent call last)",
      "\u001b[36mCell\u001b[39m\u001b[36m \u001b[39m\u001b[32mIn[5]\u001b[39m\u001b[32m, line 2\u001b[39m\n\u001b[32m      1\u001b[39m \u001b[38;5;66;03m# get boundingbox for osm highways network \u001b[39;00m\n\u001b[32m----> \u001b[39m\u001b[32m2\u001b[39m bradford_osm_boundary =\u001b[43mosm\u001b[49m.dissolve().bounds\n\u001b[32m      3\u001b[39m bradford_osm_boundary\n",
      "\u001b[31mNameError\u001b[39m: name 'osm' is not defined"
     ]
    }
   ],
   "source": [
    "# get boundingbox for osm highways network \n",
    "bradford_osm_boundary =osm.dissolve().bounds\n",
    "bradford_osm_boundary"
   ]
  },
  {
   "cell_type": "code",
   "execution_count": null,
   "metadata": {},
   "outputs": [],
   "source": [
    "# limit bradford GS access df to the same extenet as the OSM highway data\n",
    "os_gs_access_bradford = os_gs_access.cx[bradford_osm_boundary['minx']:bradford_osm_boundary['maxx'], bradford_osm_boundary['miny']:bradford_osm_boundary['maxy']]\n",
    "\n",
    "# limit bradford GS site (polygons) df to the same extenet as the OSM highway data\n",
    "os_gs_site_bradford = os_gs_site.cx[bradford_osm_boundary['minx']:bradford_osm_boundary['maxx'], bradford_osm_boundary['miny']:bradford_osm_boundary['maxy']]"
   ]
  },
  {
   "cell_type": "code",
   "execution_count": null,
   "metadata": {},
   "outputs": [],
   "source": [
    "# have a look at greenspace access points data\n",
    "os_gs_access_bradford.explore()"
   ]
  },
  {
   "cell_type": "code",
   "execution_count": null,
   "metadata": {},
   "outputs": [],
   "source": [
    "# have a look at greenspace area data\n",
    "os_gs_site_bradford.explore()"
   ]
  },
  {
   "cell_type": "code",
   "execution_count": null,
   "metadata": {},
   "outputs": [],
   "source": [
    "# isolate peel park form the greenspace data (polygon)\n",
    "peel_park =os_gs_site_bradford.loc[os_gs_site_bradford['distinctive_name_1']=='Peel Park',:]\n",
    "peel_park"
   ]
  },
  {
   "cell_type": "code",
   "execution_count": null,
   "metadata": {},
   "outputs": [],
   "source": [
    "# get all greenspaces that intersect peel park (e.g surrounding playingfields etc)\n",
    "intersecting_peel_park = gpd.sjoin(os_gs_site_bradford, peel_park, how=\"inner\", predicate=\"intersects\")\n",
    "# also define a single polygon that captures all GS in/arround peel park \n",
    "peel_park_int =intersecting_peel_park.dissolve()"
   ]
  },
  {
   "cell_type": "code",
   "execution_count": null,
   "metadata": {},
   "outputs": [],
   "source": [
    "# have a look at the resulting peel park GS polygon\n",
    "peel_park_int.explore()"
   ]
  },
  {
   "cell_type": "code",
   "execution_count": null,
   "metadata": {},
   "outputs": [],
   "source": [
    "# get the Greenspace ids for the greenspaces intersecting peel park\n",
    "gs_ids_for_peel_park =intersecting_peel_park['id_left'].unique()\n",
    "\n",
    "# use these IDs to: \n",
    "# get access points where the reference gs site is a park that is in or intersects peel park \n",
    "peel_park_access =os_gs_access_bradford.loc[os_gs_access_bradford['ref_to_greenspace_site'].isin(gs_ids_for_peel_park),:]"
   ]
  },
  {
   "cell_type": "code",
   "execution_count": null,
   "metadata": {},
   "outputs": [],
   "source": []
  },
  {
   "cell_type": "code",
   "execution_count": null,
   "metadata": {},
   "outputs": [],
   "source": [
    "# drop 'index_right' column as prevents join below\n",
    "peel_park_int =peel_park_int.drop(columns='index_right')\n",
    "# get osm network for peel park\n",
    "osm_peel_park =gpd.sjoin(osm, peel_park_int,predicate='intersects')\n",
    "osm_peel_park.plot('highway', cmap='Pastel1', legend=True)"
   ]
  },
  {
   "cell_type": "code",
   "execution_count": null,
   "metadata": {},
   "outputs": [],
   "source": [
    "fig,ax=plt.subplots(1,1, figsize=(10,10))\n",
    "peel_park_int.plot(ax=ax)\n",
    "peel_park_access.plot(ax=ax, color='red')\n",
    "intersecting_peel_park.plot(ax=ax, alpha=0.2, color='lightblue')\n",
    "osm_peel_park.plot( 'highway', cmap='Pastel1', legend=True,ax=ax)"
   ]
  },
  {
   "cell_type": "code",
   "execution_count": null,
   "metadata": {},
   "outputs": [],
   "source": [
    "# Replace this with the path to your DEM file\n",
    "# Load the DEM data\n",
    "dem_data = rasterio.open('/Users/fran/Downloads/lidar_composite_dtm-2022-1-SE13se/SE13se_DTM_1m.tif')\n",
    "dem_array = dem_data.read(1)\n",
    "transform = dem_data.transform\n",
    "\n",
    " \n",
    "# Plot DEM data\n",
    "plt.imshow(dem_array, cmap='gray')\n",
    "plt.colorbar()\n",
    "plt.title('Digital Elevation Model')\n",
    "plt.show()"
   ]
  },
  {
   "cell_type": "code",
   "execution_count": null,
   "metadata": {},
   "outputs": [],
   "source": [
    "# peel_park_raster =rasterio.open('/Users/fran/Downloads/lidar_composite_dtm-2022-1-SE13se/SE13se_DTM_1m.tif', window=peel_park_int.bounds)"
   ]
  },
  {
   "cell_type": "code",
   "execution_count": null,
   "metadata": {},
   "outputs": [],
   "source": [
    "\n",
    "# # Demo code that reads in a single raster and plots it\n",
    "# def inverse_crop_raster_to_gdf(raster_path, gdf, output_path):\n",
    "#     # Open the raster file\n",
    "#     with rasterio.open(raster_path) as src:\n",
    "#         # Inverse mask the raster with the GeoDataFrame's geometry\n",
    "#         out_image, out_transform = mask(src, gdf.geometry, crop=True)\n",
    "        \n",
    "#         # Identify non-zero (non-masked) pixels\n",
    "#         valid_mask = out_image[0] != 0\n",
    "#         rows, cols = np.where(valid_mask)\n",
    "#         min_row, max_row = rows.min(), rows.max()\n",
    "#         min_col, max_col = cols.min(), cols.max()\n",
    "\n",
    "#         # Crop to the valid data extent\n",
    "#         cropped_image = out_image[:, min_row:max_row+1, min_col:max_col+1]\n",
    "\n",
    "#         # Calculate new transform\n",
    "#         from rasterio.windows import Window, transform as window_transform\n",
    "#         window = Window(min_col, min_row, max_col - min_col + 1, max_row - min_row + 1)\n",
    "#         cropped_transform = window_transform(window, out_transform)\n",
    "\n",
    "        \n",
    "        \n",
    "#         # Update the metadata\n",
    "#         out_meta = src.meta.copy()\n",
    "#         out_meta.update({\n",
    "#             \"driver\": \"GTiff\",\n",
    "#             \"height\": out_image.shape[1],\n",
    "#             \"width\": out_image.shape[2],\n",
    "#         \"transform\": out_transform\n",
    "#         })\n",
    "    \n",
    "#         # Write the inverse cropped raster to a new file\n",
    "#         with rasterio.open(output_path, \"w\", **out_meta) as dest:\n",
    "#             dest.write(out_image)\n",
    "\n",
    "# inverse_crop_raster_to_gdf(raster_path='/Users/fran/Downloads/lidar_composite_dtm-2022-1-SE13se/SE13se_DTM_1m.tif', \n",
    "#                    gdf=peel_park_int, \n",
    "#                    output_path='Peel_park.tif')\n",
    "\n",
    "# def plot_cropped_raster(raster_path):\n",
    "#     with rasterio.open(raster_path) as src:\n",
    "#         fig, ax = plt.subplots(figsize=(10, 10))\n",
    "#         show(src, ax=ax, title=\"Cropped Raster\")\n",
    "#         plt.xlabel(\"Longitude\")\n",
    "#         plt.ylabel(\"Latitude\")\n",
    "#         plt.colorbar(ax.images[0], ax=ax, label=\"Elevation (m)\")\n",
    "#         plt.show()\n",
    "# plot_cropped_raster('Peel_park.tif')"
   ]
  },
  {
   "cell_type": "code",
   "execution_count": null,
   "metadata": {},
   "outputs": [],
   "source": [
    "\n",
    "# with rasterio.open('Peel_park.tif') as src:\n",
    "#     print(\"Metadata:\")\n",
    "#     print(src.meta)\n",
    "\n",
    "#     print(\"\\nBand Information:\")\n",
    "#     for i in range(1, src.count + 1):\n",
    "#         band = src.read(i)\n",
    "#         print(f\"Band {i}:\")\n",
    "#         print(f\"  Min: {band.min()}\")\n",
    "#         print(f\"  Max: {band.max()}\")\n"
   ]
  },
  {
   "cell_type": "code",
   "execution_count": null,
   "metadata": {},
   "outputs": [],
   "source": [
    "\n",
    "# # define funciton that assess whether each raster pixle is visible from the entrance point\n",
    " \n",
    " \n",
    "# def is_visible(peel_park_raster_array, x1, y1, x2, y2):\n",
    "#     \"\"\"Determine if the point (x2, y2) is visible from (x1, y1) in peel_park_raster_array.\"\"\"\n",
    " \n",
    "#     # Calculate the number of steps for iteration based on the greater of dx or dy\n",
    "#     dx = x2 - x1\n",
    "#     dy = y2 - y1\n",
    "#     steps = max(abs(dx), abs(dy))\n",
    " \n",
    "#     # Handle the case when steps is zero\n",
    "#     if steps == 0:\n",
    "#         return False\n",
    " \n",
    "#     # Calculate the increments for x and y\n",
    "#     x_inc = dx / steps\n",
    "#     y_inc = dy / steps\n",
    " \n",
    "#     # Start from the source point\n",
    "#     x = x1\n",
    "#     y = y1\n",
    " \n",
    "#     # Height at the source point\n",
    "#     z = peel_park_raster_array[int(y1), int(x1)] + 20\n",
    " \n",
    "#     # Iterate over the cells between source and target\n",
    "#     for i in range(1, int(steps)):\n",
    "#         x += x_inc\n",
    "#         y += y_inc\n",
    " \n",
    "#         # Calculate the elevation of the direct line at this point\n",
    "#         line_elevation = z + (peel_park_raster_array[int(y2), int(x2)] - z) * (i / steps)\n",
    " \n",
    "#         # If the DEM elevation at this point is higher than the direct line, it's not visible\n",
    "#         if peel_park_raster_array[int(y), int(x)] > line_elevation:\n",
    "#             return False\n",
    " \n",
    "#     return True\n",
    "\n",
    "# with rasterio.open('Peel_park.tif') as src:\n",
    "#     peel_park_raster_array = src.read(1)\n",
    "#     transform = src.transform\n",
    "#     meta = src.meta\n",
    " \n",
    "\n",
    "# # Define transmitter coordinates\n",
    "# #transmitter_x, transmitter_y = 76.611022, 31.514496  # Example coordinates\n",
    "# transmitter_x, transmitter_y =  peel_park_access['geometry'].iloc[0].x, peel_park_access['geometry'].iloc[0].y\n",
    "\n",
    "# # Transforming lat long into grid coordinates\n",
    "# inv_transform = ~transform\n",
    "# transmitter_x, transmitter_y = [\n",
    "#     int(round(coord)) for coord in inv_transform * (transmitter_x, transmitter_y)]\n",
    " \n",
    "# # Create an empty array for visibility\n",
    "# visibility_array = np.zeros_like(peel_park_raster_array)\n",
    " \n",
    "# # Check visibility for each pixel\n",
    "# for x in range(peel_park_raster_array.shape[1]):\n",
    "    \n",
    "#     for y in range(peel_park_raster_array.shape[0]):\n",
    "#         print(x,y)\n",
    "#         visibility_array[y, x] = is_visible(\n",
    "#             peel_park_raster_array, transmitter_x, transmitter_y, x, y)\n",
    "\n",
    "# # output_meta = meta.copy()\n",
    "# # output_meta.update({ \"dtype\": \"uint8\" })\n",
    "\n",
    "# # with rasterio.open('visibility_raster.tif', 'w', **output_meta) as dst:\n",
    "# #     dst.write(visibility_array.astype('uint8'), 1)\n",
    "# output_meta = meta.copy()\n",
    "# output_meta.update({\n",
    "#     \"dtype\": \"uint8\",\n",
    "#     \"nodata\": 255 # Valid nodata value for uint8\n",
    "# })\n",
    "\n",
    "# with rasterio.open('visibility_raster.tif', 'w', **output_meta) as dst:\n",
    "#     dst.write(visibility_array.astype('uint8'), 1)\n",
    "\n",
    " \n",
    "# # with rasterio.open('data/result/los.tif', 'w', **dem_data.meta) as dst:\n",
    "# #     dst.write(visibility_array, 1)\n",
    " \n",
    "# plt.imshow(visibility_array, cmap='gray')\n",
    "# plt.colorbar()\n",
    "# plt.title('Line of Sight Analysis')\n",
    "# plt.show()"
   ]
  },
  {
   "cell_type": "code",
   "execution_count": null,
   "metadata": {},
   "outputs": [],
   "source": [
    "# define funciton that assess whether each raster pixle is visible from each entrance point listed in a pandas df\n",
    "# and saves as an individual TIF for each entrance point\n",
    "\n",
    "def is_visible_gdf(peel_park_raster_array, x1, y1, x2, y2):\n",
    "    \"\"\"Determine if the point (x2, y2) is visible from (x1, y1) in peel_park_raster_array.\"\"\"\n",
    " \n",
    "    # Calculate the number of steps for iteration based on the greater of dx or dy\n",
    "    dx = x2 - x1\n",
    "    dy = y2 - y1\n",
    "    steps = max(abs(dx), abs(dy))\n",
    " \n",
    "    # Handle the case when steps is zero\n",
    "    if steps == 0:\n",
    "        return False\n",
    " \n",
    "    # Calculate the increments for x and y\n",
    "    x_inc = dx / steps\n",
    "    y_inc = dy / steps\n",
    " \n",
    "    # Start from the source point\n",
    "    x = x1\n",
    "    y = y1\n",
    " \n",
    "    # Height at the source point\n",
    "    z = peel_park_raster_array[int(y1), int(x1)] + 20\n",
    " \n",
    "    # Iterate over the cells between source and target\n",
    "    for i in range(1, int(steps)):\n",
    "        x += x_inc\n",
    "        y += y_inc\n",
    " \n",
    "        # Calculate the elevation of the direct line at this point\n",
    "        line_elevation = z + (peel_park_raster_array[int(y2), int(x2)] - z) * (i / steps)\n",
    " \n",
    "        # If the DEM elevation at this point is higher than the direct line, it's not visible\n",
    "        if peel_park_raster_array[int(y), int(x)] > line_elevation:\n",
    "            return False\n",
    " \n",
    "    return True\n",
    " \n",
    "with rasterio.open('Peel_park.tif') as src:\n",
    "    peel_park_raster_array = src.read(1)\n",
    "    transform = src.transform\n",
    "    meta = src.meta\n",
    "\n",
    "# Define transmitter coordinates\n",
    "#transmitter_x, transmitter_y = 76.611022, 31.514496  # Example coordinates\n",
    "for i in range (peel_park_access.shape[0]):\n",
    "    transmitter_x, transmitter_y =  peel_park_access['geometry'].iloc[i].x, peel_park_access['geometry'].iloc[i].y\n",
    "    # Transforming lat long into grid coordinates\n",
    "    inv_transform = ~transform\n",
    "    transmitter_x, transmitter_y = [\n",
    "        int(round(coord)) for coord in inv_transform * (transmitter_x, transmitter_y)]\n",
    "    \n",
    "    # Create an empty array for visibility\n",
    "    visibility_array = np.zeros_like(peel_park_raster_array)\n",
    "    \n",
    "    # Check visibility for each pixel\n",
    "    for x in range(peel_park_raster_array.shape[1]):\n",
    "        \n",
    "        for y in range(peel_park_raster_array.shape[0]):\n",
    "            print(x,y)\n",
    "            visibility_array[y, x] = is_visible(\n",
    "                peel_park_raster_array, transmitter_x, transmitter_y, x, y)\n",
    "\n",
    "    # output_meta = meta.copy()\n",
    "    # output_meta.update({ \"dtype\": \"uint8\" })\n",
    "\n",
    "    # with rasterio.open('visibility_raster.tif', 'w', **output_meta) as dst:\n",
    "    #     dst.write(visibility_array.astype('uint8'), 1)\n",
    "    output_meta = meta.copy()\n",
    "    output_meta.update({\n",
    "        \"dtype\": \"uint8\",\n",
    "        \"nodata\": 255 # Valid nodata value for uint8\n",
    "    })\n",
    "\n",
    "    with rasterio.open(f'peel_park_visability/peel_parkvisibility_raster_{i}.tif', 'w', **output_meta) as dst:\n",
    "        dst.write(visibility_array.astype('uint8'), 1)\n",
    "\n",
    "    \n",
    "\n",
    "    "
   ]
  },
  {
   "cell_type": "markdown",
   "metadata": {},
   "source": []
  },
  {
   "cell_type": "markdown",
   "metadata": {},
   "source": [
    "https://rasterio.readthedocs.io/en/stable/api/rasterio.merge.html combine raster layers"
   ]
  },
  {
   "cell_type": "code",
   "execution_count": null,
   "metadata": {},
   "outputs": [],
   "source": [
    "def inverse_crop_raster_to_gdf(raster_path, gdf, output_path):\n",
    "    # Open the raster file\n",
    "    with rasterio.open(raster_path) as src:\n",
    "        # Inverse mask the raster with the GeoDataFrame's geometry\n",
    "        out_image, out_transform = mask(src, gdf.geometry, crop=True)\n",
    "        \n",
    "        # Identify non-zero (non-masked) pixels\n",
    "        valid_mask = out_image[0] != 0\n",
    "        rows, cols = np.where(valid_mask)\n",
    "        min_row, max_row = rows.min(), rows.max()\n",
    "        min_col, max_col = cols.min(), cols.max()\n",
    "\n",
    "        # Crop to the valid data extent\n",
    "        cropped_image = out_image[:, min_row:max_row+1, min_col:max_col+1]\n",
    "\n",
    "        # Calculate new transform\n",
    "        from rasterio.windows import Window, transform as window_transform\n",
    "        window = Window(min_col, min_row, max_col - min_col + 1, max_row - min_row + 1)\n",
    "        cropped_transform = window_transform(window, out_transform)\n",
    "\n",
    "        \n",
    "        \n",
    "        # Update the metadata\n",
    "        out_meta = src.meta.copy()\n",
    "        out_meta.update({\n",
    "            \"driver\": \"GTiff\",\n",
    "            \"height\": out_image.shape[1],\n",
    "            \"width\": out_image.shape[2],\n",
    "        \"transform\": out_transform\n",
    "        })\n",
    "    \n",
    "        # Write the inverse cropped raster to a new file\n",
    "        with rasterio.open(output_path, \"w\", **out_meta) as dest:\n",
    "            dest.write(out_image)\n",
    "\n",
    "inverse_crop_raster_to_gdf(raster_path='peel_park_visability/peel_parkvisibility_raster_24.tif', \n",
    "                   gdf=peel_park_int, \n",
    "                   output_path='peel_park_visability/peel_parkvisibility_raster_24_cropped.tif')"
   ]
  },
  {
   "cell_type": "code",
   "execution_count": null,
   "metadata": {},
   "outputs": [],
   "source": [
    "/Users/fran/Documents/GitHub/Park_Safety/peel_park_visability"
   ]
  },
  {
   "cell_type": "code",
   "execution_count": null,
   "metadata": {},
   "outputs": [],
   "source": [
    "import os\n",
    "import rasterio\n",
    "from rasterio.mask import mask\n",
    "import numpy as np\n",
    "from rasterio.windows import Window, transform as window_transform\n",
    "\n",
    "def inverse_crop_raster_to_gdf(raster_path, gdf, output_path):\n",
    "    with rasterio.open(raster_path) as src:\n",
    "        out_image, out_transform = mask(src, gdf.geometry, crop=True)\n",
    "        \n",
    "        valid_mask = out_image[0] != 0\n",
    "        rows, cols = np.where(valid_mask)\n",
    "        min_row, max_row = rows.min(), rows.max()\n",
    "        min_col, max_col = cols.min(), cols.max()\n",
    "\n",
    "        cropped_image = out_image[:, min_row:max_row+1, min_col:max_col+1]\n",
    "\n",
    "        window = Window(min_col, min_row, max_col - min_col + 1, max_row - min_row + 1)\n",
    "        cropped_transform = window_transform(window, out_transform)\n",
    "\n",
    "        out_meta = src.meta.copy()\n",
    "        out_meta.update({\n",
    "            \"driver\": \"GTiff\",\n",
    "            \"height\": cropped_image.shape[1],\n",
    "            \"width\": cropped_image.shape[2],\n",
    "            \"transform\": cropped_transform\n",
    "        })\n",
    "\n",
    "        with rasterio.open(output_path, \"w\", **out_meta) as dest:\n",
    "            dest.write(cropped_image)\n",
    "        print(raster_path, ' done')\n",
    "\n",
    "def process_directory(directory, gdf):\n",
    "    for filename in os.listdir(directory):\n",
    "        if filename.endswith(\".tif\"):\n",
    "            raster_path = os.path.join(directory, filename)\n",
    "            output_path = os.path.join(directory, f\"cropped_{filename}\")\n",
    "            inverse_crop_raster_to_gdf(raster_path, gdf, output_path)\n",
    "            print(f\"Processed {filename} and saved as {output_path}\")\n"
   ]
  },
  {
   "cell_type": "code",
   "execution_count": null,
   "metadata": {},
   "outputs": [],
   "source": [
    "process_directory(directory='peel_park_visability/', \n",
    "                   gdf=peel_park_int)"
   ]
  },
  {
   "cell_type": "markdown",
   "metadata": {},
   "source": []
  },
  {
   "cell_type": "code",
   "execution_count": null,
   "metadata": {},
   "outputs": [],
   "source": []
  },
  {
   "cell_type": "code",
   "execution_count": null,
   "metadata": {},
   "outputs": [],
   "source": []
  },
  {
   "cell_type": "code",
   "execution_count": null,
   "metadata": {},
   "outputs": [],
   "source": [
    "\n",
    "def merge_rasters(input_folder, output_file):\n",
    "    src_files_to_mosaic = []\n",
    "\n",
    "    for file in os.listdir(input_folder):\n",
    "        if file.startswith(\"cropped\") and file.endswith(\".tif\"):\n",
    "        #  if file.endswith('.tif'):\n",
    "            src = rasterio.open(os.path.join(input_folder, file))\n",
    "            src_files_to_mosaic.append(src)\n",
    "\n",
    "    mosaic, out_trans = merge(src_files_to_mosaic, method=copy_count)\n",
    "\n",
    "    out_meta = src_files_to_mosaic[0].meta.copy()\n",
    "\n",
    "    out_meta.update({\n",
    "            \"driver\": \"GTiff\",\n",
    "            \"height\": mosaic.shape[1],\n",
    "            \"width\": mosaic.shape[2],\n",
    "            \"transform\": out_trans\n",
    "    })\n",
    "\n",
    "    with rasterio.open(output_file, \"w\", **out_meta) as dest:\n",
    "        dest.write(mosaic)\n",
    "\n",
    "\n",
    "\n",
    "merge_rasters('/Users/fran/Documents/GitHub/Park_Safety/peel_park_visability', 'peel_park_visability_from_entrances.tif')"
   ]
  },
  {
   "cell_type": "code",
   "execution_count": null,
   "metadata": {},
   "outputs": [],
   "source": [
    "def plot_raster(raster_path, title):\n",
    "    with rasterio.open(raster_path) as src:\n",
    "        fig, ax = plt.subplots(figsize=(10, 10))\n",
    "        show(src, ax=ax, title=title)\n",
    "        plt.xlabel(\"Longitude\")\n",
    "        plt.ylabel(\"Latitude\")\n",
    "        plt.colorbar(ax.images[0], ax=ax, label=\"leg\")\n",
    "        plt.show()\n",
    "plot_raster('peel_park_visability_from_entrances.tif', 'Park visability from entrances (based on elevation)')"
   ]
  },
  {
   "cell_type": "markdown",
   "metadata": {},
   "source": [
    "Next steps:\n",
    "- include vegetation and buildings in analysis\n",
    "- convert rater to hex\n"
   ]
  },
  {
   "cell_type": "code",
   "execution_count": null,
   "metadata": {},
   "outputs": [],
   "source": []
  },
  {
   "cell_type": "code",
   "execution_count": null,
   "metadata": {},
   "outputs": [],
   "source": [
    "def plot_cropped_raster(raster_path):\n",
    "    with rasterio.open(raster_path) as src:\n",
    "        fig, ax = plt.subplots(figsize=(10, 10))\n",
    "        show(src, ax=ax, title=\"Cropped Raster\")\n",
    "        plt.xlabel(\"Longitude\")\n",
    "        plt.ylabel(\"Latitude\")\n",
    "        plt.colorbar(ax.images[0], ax=ax, label=\"Elevation (m)\")\n",
    "        plt.show()"
   ]
  },
  {
   "cell_type": "code",
   "execution_count": null,
   "metadata": {},
   "outputs": [],
   "source": [
    "plot_cropped_raster('peel_park_visability/cropped_peel_parkvisibility_raster_18.tif')"
   ]
  },
  {
   "cell_type": "code",
   "execution_count": null,
   "metadata": {},
   "outputs": [],
   "source": [
    "plot_cropped_raster('peel_park_visability/cropped_peel_parkvisibility_raster_17.tif')"
   ]
  },
  {
   "cell_type": "code",
   "execution_count": null,
   "metadata": {},
   "outputs": [],
   "source": [
    "plot_cropped_raster('peel_park_visability/cropped_peel_parkvisibility_raster_16.tif')"
   ]
  },
  {
   "cell_type": "code",
   "execution_count": null,
   "metadata": {},
   "outputs": [],
   "source": [
    "plot_cropped_raster('peel_park_visability/cropped_peel_parkvisibility_raster_1.tif')"
   ]
  },
  {
   "cell_type": "code",
   "execution_count": null,
   "metadata": {},
   "outputs": [],
   "source": [
    "plot_cropped_raster('peel_park_visability/cropped_peel_parkvisibility_raster_24.tif')"
   ]
  },
  {
   "cell_type": "code",
   "execution_count": null,
   "metadata": {},
   "outputs": [],
   "source": []
  }
 ],
 "metadata": {
  "kernelspec": {
   "display_name": "Python 3 (ipykernel)",
   "language": "python",
   "name": "python3"
  },
  "language_info": {
   "codemirror_mode": {
    "name": "ipython",
    "version": 3
   },
   "file_extension": ".py",
   "mimetype": "text/x-python",
   "name": "python",
   "nbconvert_exporter": "python",
   "pygments_lexer": "ipython3",
   "version": "3.12.11"
  }
 },
 "nbformat": 4,
 "nbformat_minor": 4
}
